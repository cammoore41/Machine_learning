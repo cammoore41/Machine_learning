{
  "nbformat": 4,
  "nbformat_minor": 0,
  "metadata": {
    "colab": {
      "name": "Assignment 6",
      "provenance": []
    },
    "kernelspec": {
      "name": "python3",
      "display_name": "Python 3"
    },
    "accelerator": "GPU"
  },
  "cells": [
    {
      "cell_type": "code",
      "metadata": {
        "id": "ckc1rYan-8Zm",
        "colab_type": "code",
        "colab": {
          "base_uri": "https://localhost:8080/",
          "height": 910
        },
        "outputId": "593e9988-b528-4573-f4bd-130039a79367"
      },
      "source": [
        "!pip install tensorflow --upgrade"
      ],
      "execution_count": 1,
      "outputs": [
        {
          "output_type": "stream",
          "text": [
            "Collecting tensorflow\n",
            "\u001b[?25l  Downloading https://files.pythonhosted.org/packages/85/d4/c0cd1057b331bc38b65478302114194bd8e1b9c2bbc06e300935c0e93d90/tensorflow-2.1.0-cp36-cp36m-manylinux2010_x86_64.whl (421.8MB)\n",
            "\u001b[K     |████████████████████████████████| 421.8MB 38kB/s \n",
            "\u001b[?25hRequirement already satisfied, skipping upgrade: protobuf>=3.8.0 in /usr/local/lib/python3.6/dist-packages (from tensorflow) (3.10.0)\n",
            "Requirement already satisfied, skipping upgrade: gast==0.2.2 in /usr/local/lib/python3.6/dist-packages (from tensorflow) (0.2.2)\n",
            "Requirement already satisfied, skipping upgrade: astor>=0.6.0 in /usr/local/lib/python3.6/dist-packages (from tensorflow) (0.8.1)\n",
            "Requirement already satisfied, skipping upgrade: termcolor>=1.1.0 in /usr/local/lib/python3.6/dist-packages (from tensorflow) (1.1.0)\n",
            "Requirement already satisfied, skipping upgrade: keras-applications>=1.0.8 in /usr/local/lib/python3.6/dist-packages (from tensorflow) (1.0.8)\n",
            "Requirement already satisfied, skipping upgrade: six>=1.12.0 in /usr/local/lib/python3.6/dist-packages (from tensorflow) (1.12.0)\n",
            "Requirement already satisfied, skipping upgrade: keras-preprocessing>=1.1.0 in /usr/local/lib/python3.6/dist-packages (from tensorflow) (1.1.0)\n",
            "Collecting tensorflow-estimator<2.2.0,>=2.1.0rc0\n",
            "\u001b[?25l  Downloading https://files.pythonhosted.org/packages/18/90/b77c328a1304437ab1310b463e533fa7689f4bfc41549593056d812fab8e/tensorflow_estimator-2.1.0-py2.py3-none-any.whl (448kB)\n",
            "\u001b[K     |████████████████████████████████| 450kB 58.0MB/s \n",
            "\u001b[?25hRequirement already satisfied, skipping upgrade: opt-einsum>=2.3.2 in /usr/local/lib/python3.6/dist-packages (from tensorflow) (3.1.0)\n",
            "Requirement already satisfied, skipping upgrade: wrapt>=1.11.1 in /usr/local/lib/python3.6/dist-packages (from tensorflow) (1.11.2)\n",
            "Requirement already satisfied, skipping upgrade: grpcio>=1.8.6 in /usr/local/lib/python3.6/dist-packages (from tensorflow) (1.27.1)\n",
            "Requirement already satisfied, skipping upgrade: absl-py>=0.7.0 in /usr/local/lib/python3.6/dist-packages (from tensorflow) (0.9.0)\n",
            "Requirement already satisfied, skipping upgrade: wheel>=0.26; python_version >= \"3\" in /usr/local/lib/python3.6/dist-packages (from tensorflow) (0.34.2)\n",
            "Collecting tensorboard<2.2.0,>=2.1.0\n",
            "\u001b[?25l  Downloading https://files.pythonhosted.org/packages/40/23/53ffe290341cd0855d595b0a2e7485932f473798af173bbe3a584b99bb06/tensorboard-2.1.0-py3-none-any.whl (3.8MB)\n",
            "\u001b[K     |████████████████████████████████| 3.8MB 68.7MB/s \n",
            "\u001b[?25hRequirement already satisfied, skipping upgrade: google-pasta>=0.1.6 in /usr/local/lib/python3.6/dist-packages (from tensorflow) (0.1.8)\n",
            "Requirement already satisfied, skipping upgrade: numpy<2.0,>=1.16.0 in /usr/local/lib/python3.6/dist-packages (from tensorflow) (1.17.5)\n",
            "Requirement already satisfied, skipping upgrade: scipy==1.4.1; python_version >= \"3\" in /usr/local/lib/python3.6/dist-packages (from tensorflow) (1.4.1)\n",
            "Requirement already satisfied, skipping upgrade: setuptools in /usr/local/lib/python3.6/dist-packages (from protobuf>=3.8.0->tensorflow) (45.1.0)\n",
            "Requirement already satisfied, skipping upgrade: h5py in /usr/local/lib/python3.6/dist-packages (from keras-applications>=1.0.8->tensorflow) (2.8.0)\n",
            "Requirement already satisfied, skipping upgrade: markdown>=2.6.8 in /usr/local/lib/python3.6/dist-packages (from tensorboard<2.2.0,>=2.1.0->tensorflow) (3.2.1)\n",
            "Requirement already satisfied, skipping upgrade: google-auth<2,>=1.6.3 in /usr/local/lib/python3.6/dist-packages (from tensorboard<2.2.0,>=2.1.0->tensorflow) (1.7.2)\n",
            "Requirement already satisfied, skipping upgrade: google-auth-oauthlib<0.5,>=0.4.1 in /usr/local/lib/python3.6/dist-packages (from tensorboard<2.2.0,>=2.1.0->tensorflow) (0.4.1)\n",
            "Requirement already satisfied, skipping upgrade: requests<3,>=2.21.0 in /usr/local/lib/python3.6/dist-packages (from tensorboard<2.2.0,>=2.1.0->tensorflow) (2.21.0)\n",
            "Requirement already satisfied, skipping upgrade: werkzeug>=0.11.15 in /usr/local/lib/python3.6/dist-packages (from tensorboard<2.2.0,>=2.1.0->tensorflow) (1.0.0)\n",
            "Requirement already satisfied, skipping upgrade: pyasn1-modules>=0.2.1 in /usr/local/lib/python3.6/dist-packages (from google-auth<2,>=1.6.3->tensorboard<2.2.0,>=2.1.0->tensorflow) (0.2.8)\n",
            "Requirement already satisfied, skipping upgrade: rsa<4.1,>=3.1.4 in /usr/local/lib/python3.6/dist-packages (from google-auth<2,>=1.6.3->tensorboard<2.2.0,>=2.1.0->tensorflow) (4.0)\n",
            "Requirement already satisfied, skipping upgrade: cachetools<3.2,>=2.0.0 in /usr/local/lib/python3.6/dist-packages (from google-auth<2,>=1.6.3->tensorboard<2.2.0,>=2.1.0->tensorflow) (3.1.1)\n",
            "Requirement already satisfied, skipping upgrade: requests-oauthlib>=0.7.0 in /usr/local/lib/python3.6/dist-packages (from google-auth-oauthlib<0.5,>=0.4.1->tensorboard<2.2.0,>=2.1.0->tensorflow) (1.3.0)\n",
            "Requirement already satisfied, skipping upgrade: chardet<3.1.0,>=3.0.2 in /usr/local/lib/python3.6/dist-packages (from requests<3,>=2.21.0->tensorboard<2.2.0,>=2.1.0->tensorflow) (3.0.4)\n",
            "Requirement already satisfied, skipping upgrade: certifi>=2017.4.17 in /usr/local/lib/python3.6/dist-packages (from requests<3,>=2.21.0->tensorboard<2.2.0,>=2.1.0->tensorflow) (2019.11.28)\n",
            "Requirement already satisfied, skipping upgrade: urllib3<1.25,>=1.21.1 in /usr/local/lib/python3.6/dist-packages (from requests<3,>=2.21.0->tensorboard<2.2.0,>=2.1.0->tensorflow) (1.24.3)\n",
            "Requirement already satisfied, skipping upgrade: idna<2.9,>=2.5 in /usr/local/lib/python3.6/dist-packages (from requests<3,>=2.21.0->tensorboard<2.2.0,>=2.1.0->tensorflow) (2.8)\n",
            "Requirement already satisfied, skipping upgrade: pyasn1<0.5.0,>=0.4.6 in /usr/local/lib/python3.6/dist-packages (from pyasn1-modules>=0.2.1->google-auth<2,>=1.6.3->tensorboard<2.2.0,>=2.1.0->tensorflow) (0.4.8)\n",
            "Requirement already satisfied, skipping upgrade: oauthlib>=3.0.0 in /usr/local/lib/python3.6/dist-packages (from requests-oauthlib>=0.7.0->google-auth-oauthlib<0.5,>=0.4.1->tensorboard<2.2.0,>=2.1.0->tensorflow) (3.1.0)\n",
            "Installing collected packages: tensorflow-estimator, tensorboard, tensorflow\n",
            "  Found existing installation: tensorflow-estimator 1.15.1\n",
            "    Uninstalling tensorflow-estimator-1.15.1:\n",
            "      Successfully uninstalled tensorflow-estimator-1.15.1\n",
            "  Found existing installation: tensorboard 1.15.0\n",
            "    Uninstalling tensorboard-1.15.0:\n",
            "      Successfully uninstalled tensorboard-1.15.0\n",
            "  Found existing installation: tensorflow 1.15.0\n",
            "    Uninstalling tensorflow-1.15.0:\n",
            "      Successfully uninstalled tensorflow-1.15.0\n",
            "Successfully installed tensorboard-2.1.0 tensorflow-2.1.0 tensorflow-estimator-2.1.0\n"
          ],
          "name": "stdout"
        }
      ]
    },
    {
      "cell_type": "code",
      "metadata": {
        "id": "EfU_9S8V_ErY",
        "colab_type": "code",
        "colab": {
          "base_uri": "https://localhost:8080/",
          "height": 205
        },
        "outputId": "a60cf595-c192-4928-a794-04d0c25e673a"
      },
      "source": [
        "!pip show tensorflow"
      ],
      "execution_count": 2,
      "outputs": [
        {
          "output_type": "stream",
          "text": [
            "Name: tensorflow\n",
            "Version: 2.1.0\n",
            "Summary: TensorFlow is an open source machine learning framework for everyone.\n",
            "Home-page: https://www.tensorflow.org/\n",
            "Author: Google Inc.\n",
            "Author-email: packages@tensorflow.org\n",
            "License: Apache 2.0\n",
            "Location: /usr/local/lib/python3.6/dist-packages\n",
            "Requires: keras-preprocessing, termcolor, wheel, absl-py, astor, grpcio, numpy, opt-einsum, protobuf, scipy, gast, wrapt, six, tensorboard, google-pasta, tensorflow-estimator, keras-applications\n",
            "Required-by: stable-baselines, magenta, fancyimpute\n"
          ],
          "name": "stdout"
        }
      ]
    },
    {
      "cell_type": "code",
      "metadata": {
        "id": "GMdY3blUQoFX",
        "colab_type": "code",
        "colab": {}
      },
      "source": [
        "import tensorflow as tf\n",
        "from tensorflow import keras\n",
        "import pandas as pd"
      ],
      "execution_count": 0,
      "outputs": []
    },
    {
      "cell_type": "code",
      "metadata": {
        "id": "oGHQPnRNhaSH",
        "colab_type": "code",
        "colab": {}
      },
      "source": [
        "test=pd.read_csv('/content/drive/My Drive/test.csv')\n",
        "train=pd.read_csv('/content/drive/My Drive/train.csv')"
      ],
      "execution_count": 0,
      "outputs": []
    },
    {
      "cell_type": "code",
      "metadata": {
        "id": "XCkHrkDUiRV6",
        "colab_type": "code",
        "colab": {
          "base_uri": "https://localhost:8080/",
          "height": 101
        },
        "outputId": "b8683bac-bb11-4749-da1b-d19c1d09b546"
      },
      "source": [
        "train.info()"
      ],
      "execution_count": 40,
      "outputs": [
        {
          "output_type": "stream",
          "text": [
            "<class 'pandas.core.frame.DataFrame'>\n",
            "RangeIndex: 42000 entries, 0 to 41999\n",
            "Columns: 785 entries, label to pixel783\n",
            "dtypes: int64(785)\n",
            "memory usage: 251.5 MB\n"
          ],
          "name": "stdout"
        }
      ]
    },
    {
      "cell_type": "code",
      "metadata": {
        "id": "CUaOmBw2ijxG",
        "colab_type": "code",
        "colab": {
          "base_uri": "https://localhost:8080/",
          "height": 333
        },
        "outputId": "4e22839d-911c-4660-97f3-f1fbc2356b40"
      },
      "source": [
        "train.describe()"
      ],
      "execution_count": 41,
      "outputs": [
        {
          "output_type": "execute_result",
          "data": {
            "text/html": [
              "<div>\n",
              "<style scoped>\n",
              "    .dataframe tbody tr th:only-of-type {\n",
              "        vertical-align: middle;\n",
              "    }\n",
              "\n",
              "    .dataframe tbody tr th {\n",
              "        vertical-align: top;\n",
              "    }\n",
              "\n",
              "    .dataframe thead th {\n",
              "        text-align: right;\n",
              "    }\n",
              "</style>\n",
              "<table border=\"1\" class=\"dataframe\">\n",
              "  <thead>\n",
              "    <tr style=\"text-align: right;\">\n",
              "      <th></th>\n",
              "      <th>label</th>\n",
              "      <th>pixel0</th>\n",
              "      <th>pixel1</th>\n",
              "      <th>pixel2</th>\n",
              "      <th>pixel3</th>\n",
              "      <th>pixel4</th>\n",
              "      <th>pixel5</th>\n",
              "      <th>pixel6</th>\n",
              "      <th>pixel7</th>\n",
              "      <th>pixel8</th>\n",
              "      <th>pixel9</th>\n",
              "      <th>pixel10</th>\n",
              "      <th>pixel11</th>\n",
              "      <th>pixel12</th>\n",
              "      <th>pixel13</th>\n",
              "      <th>pixel14</th>\n",
              "      <th>pixel15</th>\n",
              "      <th>pixel16</th>\n",
              "      <th>pixel17</th>\n",
              "      <th>pixel18</th>\n",
              "      <th>pixel19</th>\n",
              "      <th>pixel20</th>\n",
              "      <th>pixel21</th>\n",
              "      <th>pixel22</th>\n",
              "      <th>pixel23</th>\n",
              "      <th>pixel24</th>\n",
              "      <th>pixel25</th>\n",
              "      <th>pixel26</th>\n",
              "      <th>pixel27</th>\n",
              "      <th>pixel28</th>\n",
              "      <th>pixel29</th>\n",
              "      <th>pixel30</th>\n",
              "      <th>pixel31</th>\n",
              "      <th>pixel32</th>\n",
              "      <th>pixel33</th>\n",
              "      <th>pixel34</th>\n",
              "      <th>pixel35</th>\n",
              "      <th>pixel36</th>\n",
              "      <th>pixel37</th>\n",
              "      <th>pixel38</th>\n",
              "      <th>...</th>\n",
              "      <th>pixel744</th>\n",
              "      <th>pixel745</th>\n",
              "      <th>pixel746</th>\n",
              "      <th>pixel747</th>\n",
              "      <th>pixel748</th>\n",
              "      <th>pixel749</th>\n",
              "      <th>pixel750</th>\n",
              "      <th>pixel751</th>\n",
              "      <th>pixel752</th>\n",
              "      <th>pixel753</th>\n",
              "      <th>pixel754</th>\n",
              "      <th>pixel755</th>\n",
              "      <th>pixel756</th>\n",
              "      <th>pixel757</th>\n",
              "      <th>pixel758</th>\n",
              "      <th>pixel759</th>\n",
              "      <th>pixel760</th>\n",
              "      <th>pixel761</th>\n",
              "      <th>pixel762</th>\n",
              "      <th>pixel763</th>\n",
              "      <th>pixel764</th>\n",
              "      <th>pixel765</th>\n",
              "      <th>pixel766</th>\n",
              "      <th>pixel767</th>\n",
              "      <th>pixel768</th>\n",
              "      <th>pixel769</th>\n",
              "      <th>pixel770</th>\n",
              "      <th>pixel771</th>\n",
              "      <th>pixel772</th>\n",
              "      <th>pixel773</th>\n",
              "      <th>pixel774</th>\n",
              "      <th>pixel775</th>\n",
              "      <th>pixel776</th>\n",
              "      <th>pixel777</th>\n",
              "      <th>pixel778</th>\n",
              "      <th>pixel779</th>\n",
              "      <th>pixel780</th>\n",
              "      <th>pixel781</th>\n",
              "      <th>pixel782</th>\n",
              "      <th>pixel783</th>\n",
              "    </tr>\n",
              "  </thead>\n",
              "  <tbody>\n",
              "    <tr>\n",
              "      <th>count</th>\n",
              "      <td>42000.000000</td>\n",
              "      <td>42000.0</td>\n",
              "      <td>42000.0</td>\n",
              "      <td>42000.0</td>\n",
              "      <td>42000.0</td>\n",
              "      <td>42000.0</td>\n",
              "      <td>42000.0</td>\n",
              "      <td>42000.0</td>\n",
              "      <td>42000.0</td>\n",
              "      <td>42000.0</td>\n",
              "      <td>42000.0</td>\n",
              "      <td>42000.0</td>\n",
              "      <td>42000.0</td>\n",
              "      <td>42000.00000</td>\n",
              "      <td>42000.000000</td>\n",
              "      <td>42000.000000</td>\n",
              "      <td>42000.000000</td>\n",
              "      <td>42000.0</td>\n",
              "      <td>42000.0</td>\n",
              "      <td>42000.0</td>\n",
              "      <td>42000.0</td>\n",
              "      <td>42000.0</td>\n",
              "      <td>42000.0</td>\n",
              "      <td>42000.0</td>\n",
              "      <td>42000.0</td>\n",
              "      <td>42000.0</td>\n",
              "      <td>42000.0</td>\n",
              "      <td>42000.0</td>\n",
              "      <td>42000.0</td>\n",
              "      <td>42000.0</td>\n",
              "      <td>42000.0</td>\n",
              "      <td>42000.0</td>\n",
              "      <td>42000.0</td>\n",
              "      <td>42000.000000</td>\n",
              "      <td>42000.000000</td>\n",
              "      <td>42000.000000</td>\n",
              "      <td>42000.000000</td>\n",
              "      <td>42000.000000</td>\n",
              "      <td>42000.000000</td>\n",
              "      <td>42000.000000</td>\n",
              "      <td>...</td>\n",
              "      <td>42000.000000</td>\n",
              "      <td>42000.000000</td>\n",
              "      <td>42000.000000</td>\n",
              "      <td>42000.000000</td>\n",
              "      <td>42000.000000</td>\n",
              "      <td>42000.000000</td>\n",
              "      <td>42000.000000</td>\n",
              "      <td>42000.000000</td>\n",
              "      <td>42000.000000</td>\n",
              "      <td>42000.000000</td>\n",
              "      <td>42000.0</td>\n",
              "      <td>42000.0</td>\n",
              "      <td>42000.0</td>\n",
              "      <td>42000.0</td>\n",
              "      <td>42000.0</td>\n",
              "      <td>42000.0</td>\n",
              "      <td>42000.0</td>\n",
              "      <td>42000.000000</td>\n",
              "      <td>42000.000000</td>\n",
              "      <td>42000.000000</td>\n",
              "      <td>42000.000000</td>\n",
              "      <td>42000.000000</td>\n",
              "      <td>42000.000000</td>\n",
              "      <td>42000.000000</td>\n",
              "      <td>42000.000000</td>\n",
              "      <td>42000.000000</td>\n",
              "      <td>42000.000000</td>\n",
              "      <td>42000.00000</td>\n",
              "      <td>42000.000000</td>\n",
              "      <td>42000.000000</td>\n",
              "      <td>42000.000000</td>\n",
              "      <td>42000.000000</td>\n",
              "      <td>42000.000000</td>\n",
              "      <td>42000.00000</td>\n",
              "      <td>42000.000000</td>\n",
              "      <td>42000.000000</td>\n",
              "      <td>42000.0</td>\n",
              "      <td>42000.0</td>\n",
              "      <td>42000.0</td>\n",
              "      <td>42000.0</td>\n",
              "    </tr>\n",
              "    <tr>\n",
              "      <th>mean</th>\n",
              "      <td>4.456643</td>\n",
              "      <td>0.0</td>\n",
              "      <td>0.0</td>\n",
              "      <td>0.0</td>\n",
              "      <td>0.0</td>\n",
              "      <td>0.0</td>\n",
              "      <td>0.0</td>\n",
              "      <td>0.0</td>\n",
              "      <td>0.0</td>\n",
              "      <td>0.0</td>\n",
              "      <td>0.0</td>\n",
              "      <td>0.0</td>\n",
              "      <td>0.0</td>\n",
              "      <td>0.00300</td>\n",
              "      <td>0.011190</td>\n",
              "      <td>0.005143</td>\n",
              "      <td>0.000214</td>\n",
              "      <td>0.0</td>\n",
              "      <td>0.0</td>\n",
              "      <td>0.0</td>\n",
              "      <td>0.0</td>\n",
              "      <td>0.0</td>\n",
              "      <td>0.0</td>\n",
              "      <td>0.0</td>\n",
              "      <td>0.0</td>\n",
              "      <td>0.0</td>\n",
              "      <td>0.0</td>\n",
              "      <td>0.0</td>\n",
              "      <td>0.0</td>\n",
              "      <td>0.0</td>\n",
              "      <td>0.0</td>\n",
              "      <td>0.0</td>\n",
              "      <td>0.0</td>\n",
              "      <td>0.000381</td>\n",
              "      <td>0.001310</td>\n",
              "      <td>0.010548</td>\n",
              "      <td>0.027262</td>\n",
              "      <td>0.050905</td>\n",
              "      <td>0.066405</td>\n",
              "      <td>0.129571</td>\n",
              "      <td>...</td>\n",
              "      <td>3.772524</td>\n",
              "      <td>2.748905</td>\n",
              "      <td>1.796452</td>\n",
              "      <td>1.089905</td>\n",
              "      <td>0.563190</td>\n",
              "      <td>0.239571</td>\n",
              "      <td>0.093524</td>\n",
              "      <td>0.024833</td>\n",
              "      <td>0.000857</td>\n",
              "      <td>0.001405</td>\n",
              "      <td>0.0</td>\n",
              "      <td>0.0</td>\n",
              "      <td>0.0</td>\n",
              "      <td>0.0</td>\n",
              "      <td>0.0</td>\n",
              "      <td>0.0</td>\n",
              "      <td>0.0</td>\n",
              "      <td>0.006143</td>\n",
              "      <td>0.035833</td>\n",
              "      <td>0.082357</td>\n",
              "      <td>0.114905</td>\n",
              "      <td>0.178714</td>\n",
              "      <td>0.301452</td>\n",
              "      <td>0.413643</td>\n",
              "      <td>0.513667</td>\n",
              "      <td>0.558833</td>\n",
              "      <td>0.677857</td>\n",
              "      <td>0.60281</td>\n",
              "      <td>0.489238</td>\n",
              "      <td>0.340214</td>\n",
              "      <td>0.219286</td>\n",
              "      <td>0.117095</td>\n",
              "      <td>0.059024</td>\n",
              "      <td>0.02019</td>\n",
              "      <td>0.017238</td>\n",
              "      <td>0.002857</td>\n",
              "      <td>0.0</td>\n",
              "      <td>0.0</td>\n",
              "      <td>0.0</td>\n",
              "      <td>0.0</td>\n",
              "    </tr>\n",
              "    <tr>\n",
              "      <th>std</th>\n",
              "      <td>2.887730</td>\n",
              "      <td>0.0</td>\n",
              "      <td>0.0</td>\n",
              "      <td>0.0</td>\n",
              "      <td>0.0</td>\n",
              "      <td>0.0</td>\n",
              "      <td>0.0</td>\n",
              "      <td>0.0</td>\n",
              "      <td>0.0</td>\n",
              "      <td>0.0</td>\n",
              "      <td>0.0</td>\n",
              "      <td>0.0</td>\n",
              "      <td>0.0</td>\n",
              "      <td>0.56812</td>\n",
              "      <td>1.626927</td>\n",
              "      <td>1.053972</td>\n",
              "      <td>0.043916</td>\n",
              "      <td>0.0</td>\n",
              "      <td>0.0</td>\n",
              "      <td>0.0</td>\n",
              "      <td>0.0</td>\n",
              "      <td>0.0</td>\n",
              "      <td>0.0</td>\n",
              "      <td>0.0</td>\n",
              "      <td>0.0</td>\n",
              "      <td>0.0</td>\n",
              "      <td>0.0</td>\n",
              "      <td>0.0</td>\n",
              "      <td>0.0</td>\n",
              "      <td>0.0</td>\n",
              "      <td>0.0</td>\n",
              "      <td>0.0</td>\n",
              "      <td>0.0</td>\n",
              "      <td>0.078072</td>\n",
              "      <td>0.232634</td>\n",
              "      <td>1.131661</td>\n",
              "      <td>2.310396</td>\n",
              "      <td>3.121847</td>\n",
              "      <td>3.259128</td>\n",
              "      <td>4.992894</td>\n",
              "      <td>...</td>\n",
              "      <td>26.957829</td>\n",
              "      <td>22.879248</td>\n",
              "      <td>18.595109</td>\n",
              "      <td>14.434439</td>\n",
              "      <td>10.517823</td>\n",
              "      <td>6.469315</td>\n",
              "      <td>3.976306</td>\n",
              "      <td>1.846016</td>\n",
              "      <td>0.139556</td>\n",
              "      <td>0.287891</td>\n",
              "      <td>0.0</td>\n",
              "      <td>0.0</td>\n",
              "      <td>0.0</td>\n",
              "      <td>0.0</td>\n",
              "      <td>0.0</td>\n",
              "      <td>0.0</td>\n",
              "      <td>0.0</td>\n",
              "      <td>0.949803</td>\n",
              "      <td>2.350859</td>\n",
              "      <td>3.934280</td>\n",
              "      <td>4.543583</td>\n",
              "      <td>5.856772</td>\n",
              "      <td>7.219742</td>\n",
              "      <td>8.928286</td>\n",
              "      <td>10.004069</td>\n",
              "      <td>10.129595</td>\n",
              "      <td>11.254931</td>\n",
              "      <td>10.69603</td>\n",
              "      <td>9.480066</td>\n",
              "      <td>7.950251</td>\n",
              "      <td>6.312890</td>\n",
              "      <td>4.633819</td>\n",
              "      <td>3.274488</td>\n",
              "      <td>1.75987</td>\n",
              "      <td>1.894498</td>\n",
              "      <td>0.414264</td>\n",
              "      <td>0.0</td>\n",
              "      <td>0.0</td>\n",
              "      <td>0.0</td>\n",
              "      <td>0.0</td>\n",
              "    </tr>\n",
              "    <tr>\n",
              "      <th>min</th>\n",
              "      <td>0.000000</td>\n",
              "      <td>0.0</td>\n",
              "      <td>0.0</td>\n",
              "      <td>0.0</td>\n",
              "      <td>0.0</td>\n",
              "      <td>0.0</td>\n",
              "      <td>0.0</td>\n",
              "      <td>0.0</td>\n",
              "      <td>0.0</td>\n",
              "      <td>0.0</td>\n",
              "      <td>0.0</td>\n",
              "      <td>0.0</td>\n",
              "      <td>0.0</td>\n",
              "      <td>0.00000</td>\n",
              "      <td>0.000000</td>\n",
              "      <td>0.000000</td>\n",
              "      <td>0.000000</td>\n",
              "      <td>0.0</td>\n",
              "      <td>0.0</td>\n",
              "      <td>0.0</td>\n",
              "      <td>0.0</td>\n",
              "      <td>0.0</td>\n",
              "      <td>0.0</td>\n",
              "      <td>0.0</td>\n",
              "      <td>0.0</td>\n",
              "      <td>0.0</td>\n",
              "      <td>0.0</td>\n",
              "      <td>0.0</td>\n",
              "      <td>0.0</td>\n",
              "      <td>0.0</td>\n",
              "      <td>0.0</td>\n",
              "      <td>0.0</td>\n",
              "      <td>0.0</td>\n",
              "      <td>0.000000</td>\n",
              "      <td>0.000000</td>\n",
              "      <td>0.000000</td>\n",
              "      <td>0.000000</td>\n",
              "      <td>0.000000</td>\n",
              "      <td>0.000000</td>\n",
              "      <td>0.000000</td>\n",
              "      <td>...</td>\n",
              "      <td>0.000000</td>\n",
              "      <td>0.000000</td>\n",
              "      <td>0.000000</td>\n",
              "      <td>0.000000</td>\n",
              "      <td>0.000000</td>\n",
              "      <td>0.000000</td>\n",
              "      <td>0.000000</td>\n",
              "      <td>0.000000</td>\n",
              "      <td>0.000000</td>\n",
              "      <td>0.000000</td>\n",
              "      <td>0.0</td>\n",
              "      <td>0.0</td>\n",
              "      <td>0.0</td>\n",
              "      <td>0.0</td>\n",
              "      <td>0.0</td>\n",
              "      <td>0.0</td>\n",
              "      <td>0.0</td>\n",
              "      <td>0.000000</td>\n",
              "      <td>0.000000</td>\n",
              "      <td>0.000000</td>\n",
              "      <td>0.000000</td>\n",
              "      <td>0.000000</td>\n",
              "      <td>0.000000</td>\n",
              "      <td>0.000000</td>\n",
              "      <td>0.000000</td>\n",
              "      <td>0.000000</td>\n",
              "      <td>0.000000</td>\n",
              "      <td>0.00000</td>\n",
              "      <td>0.000000</td>\n",
              "      <td>0.000000</td>\n",
              "      <td>0.000000</td>\n",
              "      <td>0.000000</td>\n",
              "      <td>0.000000</td>\n",
              "      <td>0.00000</td>\n",
              "      <td>0.000000</td>\n",
              "      <td>0.000000</td>\n",
              "      <td>0.0</td>\n",
              "      <td>0.0</td>\n",
              "      <td>0.0</td>\n",
              "      <td>0.0</td>\n",
              "    </tr>\n",
              "    <tr>\n",
              "      <th>25%</th>\n",
              "      <td>2.000000</td>\n",
              "      <td>0.0</td>\n",
              "      <td>0.0</td>\n",
              "      <td>0.0</td>\n",
              "      <td>0.0</td>\n",
              "      <td>0.0</td>\n",
              "      <td>0.0</td>\n",
              "      <td>0.0</td>\n",
              "      <td>0.0</td>\n",
              "      <td>0.0</td>\n",
              "      <td>0.0</td>\n",
              "      <td>0.0</td>\n",
              "      <td>0.0</td>\n",
              "      <td>0.00000</td>\n",
              "      <td>0.000000</td>\n",
              "      <td>0.000000</td>\n",
              "      <td>0.000000</td>\n",
              "      <td>0.0</td>\n",
              "      <td>0.0</td>\n",
              "      <td>0.0</td>\n",
              "      <td>0.0</td>\n",
              "      <td>0.0</td>\n",
              "      <td>0.0</td>\n",
              "      <td>0.0</td>\n",
              "      <td>0.0</td>\n",
              "      <td>0.0</td>\n",
              "      <td>0.0</td>\n",
              "      <td>0.0</td>\n",
              "      <td>0.0</td>\n",
              "      <td>0.0</td>\n",
              "      <td>0.0</td>\n",
              "      <td>0.0</td>\n",
              "      <td>0.0</td>\n",
              "      <td>0.000000</td>\n",
              "      <td>0.000000</td>\n",
              "      <td>0.000000</td>\n",
              "      <td>0.000000</td>\n",
              "      <td>0.000000</td>\n",
              "      <td>0.000000</td>\n",
              "      <td>0.000000</td>\n",
              "      <td>...</td>\n",
              "      <td>0.000000</td>\n",
              "      <td>0.000000</td>\n",
              "      <td>0.000000</td>\n",
              "      <td>0.000000</td>\n",
              "      <td>0.000000</td>\n",
              "      <td>0.000000</td>\n",
              "      <td>0.000000</td>\n",
              "      <td>0.000000</td>\n",
              "      <td>0.000000</td>\n",
              "      <td>0.000000</td>\n",
              "      <td>0.0</td>\n",
              "      <td>0.0</td>\n",
              "      <td>0.0</td>\n",
              "      <td>0.0</td>\n",
              "      <td>0.0</td>\n",
              "      <td>0.0</td>\n",
              "      <td>0.0</td>\n",
              "      <td>0.000000</td>\n",
              "      <td>0.000000</td>\n",
              "      <td>0.000000</td>\n",
              "      <td>0.000000</td>\n",
              "      <td>0.000000</td>\n",
              "      <td>0.000000</td>\n",
              "      <td>0.000000</td>\n",
              "      <td>0.000000</td>\n",
              "      <td>0.000000</td>\n",
              "      <td>0.000000</td>\n",
              "      <td>0.00000</td>\n",
              "      <td>0.000000</td>\n",
              "      <td>0.000000</td>\n",
              "      <td>0.000000</td>\n",
              "      <td>0.000000</td>\n",
              "      <td>0.000000</td>\n",
              "      <td>0.00000</td>\n",
              "      <td>0.000000</td>\n",
              "      <td>0.000000</td>\n",
              "      <td>0.0</td>\n",
              "      <td>0.0</td>\n",
              "      <td>0.0</td>\n",
              "      <td>0.0</td>\n",
              "    </tr>\n",
              "    <tr>\n",
              "      <th>50%</th>\n",
              "      <td>4.000000</td>\n",
              "      <td>0.0</td>\n",
              "      <td>0.0</td>\n",
              "      <td>0.0</td>\n",
              "      <td>0.0</td>\n",
              "      <td>0.0</td>\n",
              "      <td>0.0</td>\n",
              "      <td>0.0</td>\n",
              "      <td>0.0</td>\n",
              "      <td>0.0</td>\n",
              "      <td>0.0</td>\n",
              "      <td>0.0</td>\n",
              "      <td>0.0</td>\n",
              "      <td>0.00000</td>\n",
              "      <td>0.000000</td>\n",
              "      <td>0.000000</td>\n",
              "      <td>0.000000</td>\n",
              "      <td>0.0</td>\n",
              "      <td>0.0</td>\n",
              "      <td>0.0</td>\n",
              "      <td>0.0</td>\n",
              "      <td>0.0</td>\n",
              "      <td>0.0</td>\n",
              "      <td>0.0</td>\n",
              "      <td>0.0</td>\n",
              "      <td>0.0</td>\n",
              "      <td>0.0</td>\n",
              "      <td>0.0</td>\n",
              "      <td>0.0</td>\n",
              "      <td>0.0</td>\n",
              "      <td>0.0</td>\n",
              "      <td>0.0</td>\n",
              "      <td>0.0</td>\n",
              "      <td>0.000000</td>\n",
              "      <td>0.000000</td>\n",
              "      <td>0.000000</td>\n",
              "      <td>0.000000</td>\n",
              "      <td>0.000000</td>\n",
              "      <td>0.000000</td>\n",
              "      <td>0.000000</td>\n",
              "      <td>...</td>\n",
              "      <td>0.000000</td>\n",
              "      <td>0.000000</td>\n",
              "      <td>0.000000</td>\n",
              "      <td>0.000000</td>\n",
              "      <td>0.000000</td>\n",
              "      <td>0.000000</td>\n",
              "      <td>0.000000</td>\n",
              "      <td>0.000000</td>\n",
              "      <td>0.000000</td>\n",
              "      <td>0.000000</td>\n",
              "      <td>0.0</td>\n",
              "      <td>0.0</td>\n",
              "      <td>0.0</td>\n",
              "      <td>0.0</td>\n",
              "      <td>0.0</td>\n",
              "      <td>0.0</td>\n",
              "      <td>0.0</td>\n",
              "      <td>0.000000</td>\n",
              "      <td>0.000000</td>\n",
              "      <td>0.000000</td>\n",
              "      <td>0.000000</td>\n",
              "      <td>0.000000</td>\n",
              "      <td>0.000000</td>\n",
              "      <td>0.000000</td>\n",
              "      <td>0.000000</td>\n",
              "      <td>0.000000</td>\n",
              "      <td>0.000000</td>\n",
              "      <td>0.00000</td>\n",
              "      <td>0.000000</td>\n",
              "      <td>0.000000</td>\n",
              "      <td>0.000000</td>\n",
              "      <td>0.000000</td>\n",
              "      <td>0.000000</td>\n",
              "      <td>0.00000</td>\n",
              "      <td>0.000000</td>\n",
              "      <td>0.000000</td>\n",
              "      <td>0.0</td>\n",
              "      <td>0.0</td>\n",
              "      <td>0.0</td>\n",
              "      <td>0.0</td>\n",
              "    </tr>\n",
              "    <tr>\n",
              "      <th>75%</th>\n",
              "      <td>7.000000</td>\n",
              "      <td>0.0</td>\n",
              "      <td>0.0</td>\n",
              "      <td>0.0</td>\n",
              "      <td>0.0</td>\n",
              "      <td>0.0</td>\n",
              "      <td>0.0</td>\n",
              "      <td>0.0</td>\n",
              "      <td>0.0</td>\n",
              "      <td>0.0</td>\n",
              "      <td>0.0</td>\n",
              "      <td>0.0</td>\n",
              "      <td>0.0</td>\n",
              "      <td>0.00000</td>\n",
              "      <td>0.000000</td>\n",
              "      <td>0.000000</td>\n",
              "      <td>0.000000</td>\n",
              "      <td>0.0</td>\n",
              "      <td>0.0</td>\n",
              "      <td>0.0</td>\n",
              "      <td>0.0</td>\n",
              "      <td>0.0</td>\n",
              "      <td>0.0</td>\n",
              "      <td>0.0</td>\n",
              "      <td>0.0</td>\n",
              "      <td>0.0</td>\n",
              "      <td>0.0</td>\n",
              "      <td>0.0</td>\n",
              "      <td>0.0</td>\n",
              "      <td>0.0</td>\n",
              "      <td>0.0</td>\n",
              "      <td>0.0</td>\n",
              "      <td>0.0</td>\n",
              "      <td>0.000000</td>\n",
              "      <td>0.000000</td>\n",
              "      <td>0.000000</td>\n",
              "      <td>0.000000</td>\n",
              "      <td>0.000000</td>\n",
              "      <td>0.000000</td>\n",
              "      <td>0.000000</td>\n",
              "      <td>...</td>\n",
              "      <td>0.000000</td>\n",
              "      <td>0.000000</td>\n",
              "      <td>0.000000</td>\n",
              "      <td>0.000000</td>\n",
              "      <td>0.000000</td>\n",
              "      <td>0.000000</td>\n",
              "      <td>0.000000</td>\n",
              "      <td>0.000000</td>\n",
              "      <td>0.000000</td>\n",
              "      <td>0.000000</td>\n",
              "      <td>0.0</td>\n",
              "      <td>0.0</td>\n",
              "      <td>0.0</td>\n",
              "      <td>0.0</td>\n",
              "      <td>0.0</td>\n",
              "      <td>0.0</td>\n",
              "      <td>0.0</td>\n",
              "      <td>0.000000</td>\n",
              "      <td>0.000000</td>\n",
              "      <td>0.000000</td>\n",
              "      <td>0.000000</td>\n",
              "      <td>0.000000</td>\n",
              "      <td>0.000000</td>\n",
              "      <td>0.000000</td>\n",
              "      <td>0.000000</td>\n",
              "      <td>0.000000</td>\n",
              "      <td>0.000000</td>\n",
              "      <td>0.00000</td>\n",
              "      <td>0.000000</td>\n",
              "      <td>0.000000</td>\n",
              "      <td>0.000000</td>\n",
              "      <td>0.000000</td>\n",
              "      <td>0.000000</td>\n",
              "      <td>0.00000</td>\n",
              "      <td>0.000000</td>\n",
              "      <td>0.000000</td>\n",
              "      <td>0.0</td>\n",
              "      <td>0.0</td>\n",
              "      <td>0.0</td>\n",
              "      <td>0.0</td>\n",
              "    </tr>\n",
              "    <tr>\n",
              "      <th>max</th>\n",
              "      <td>9.000000</td>\n",
              "      <td>0.0</td>\n",
              "      <td>0.0</td>\n",
              "      <td>0.0</td>\n",
              "      <td>0.0</td>\n",
              "      <td>0.0</td>\n",
              "      <td>0.0</td>\n",
              "      <td>0.0</td>\n",
              "      <td>0.0</td>\n",
              "      <td>0.0</td>\n",
              "      <td>0.0</td>\n",
              "      <td>0.0</td>\n",
              "      <td>0.0</td>\n",
              "      <td>116.00000</td>\n",
              "      <td>254.000000</td>\n",
              "      <td>216.000000</td>\n",
              "      <td>9.000000</td>\n",
              "      <td>0.0</td>\n",
              "      <td>0.0</td>\n",
              "      <td>0.0</td>\n",
              "      <td>0.0</td>\n",
              "      <td>0.0</td>\n",
              "      <td>0.0</td>\n",
              "      <td>0.0</td>\n",
              "      <td>0.0</td>\n",
              "      <td>0.0</td>\n",
              "      <td>0.0</td>\n",
              "      <td>0.0</td>\n",
              "      <td>0.0</td>\n",
              "      <td>0.0</td>\n",
              "      <td>0.0</td>\n",
              "      <td>0.0</td>\n",
              "      <td>0.0</td>\n",
              "      <td>16.000000</td>\n",
              "      <td>47.000000</td>\n",
              "      <td>157.000000</td>\n",
              "      <td>254.000000</td>\n",
              "      <td>255.000000</td>\n",
              "      <td>243.000000</td>\n",
              "      <td>255.000000</td>\n",
              "      <td>...</td>\n",
              "      <td>255.000000</td>\n",
              "      <td>255.000000</td>\n",
              "      <td>255.000000</td>\n",
              "      <td>255.000000</td>\n",
              "      <td>255.000000</td>\n",
              "      <td>255.000000</td>\n",
              "      <td>255.000000</td>\n",
              "      <td>253.000000</td>\n",
              "      <td>28.000000</td>\n",
              "      <td>59.000000</td>\n",
              "      <td>0.0</td>\n",
              "      <td>0.0</td>\n",
              "      <td>0.0</td>\n",
              "      <td>0.0</td>\n",
              "      <td>0.0</td>\n",
              "      <td>0.0</td>\n",
              "      <td>0.0</td>\n",
              "      <td>177.000000</td>\n",
              "      <td>231.000000</td>\n",
              "      <td>253.000000</td>\n",
              "      <td>254.000000</td>\n",
              "      <td>254.000000</td>\n",
              "      <td>255.000000</td>\n",
              "      <td>255.000000</td>\n",
              "      <td>255.000000</td>\n",
              "      <td>255.000000</td>\n",
              "      <td>255.000000</td>\n",
              "      <td>255.00000</td>\n",
              "      <td>255.000000</td>\n",
              "      <td>255.000000</td>\n",
              "      <td>254.000000</td>\n",
              "      <td>254.000000</td>\n",
              "      <td>253.000000</td>\n",
              "      <td>253.00000</td>\n",
              "      <td>254.000000</td>\n",
              "      <td>62.000000</td>\n",
              "      <td>0.0</td>\n",
              "      <td>0.0</td>\n",
              "      <td>0.0</td>\n",
              "      <td>0.0</td>\n",
              "    </tr>\n",
              "  </tbody>\n",
              "</table>\n",
              "<p>8 rows × 785 columns</p>\n",
              "</div>"
            ],
            "text/plain": [
              "              label   pixel0   pixel1  ...  pixel781  pixel782  pixel783\n",
              "count  42000.000000  42000.0  42000.0  ...   42000.0   42000.0   42000.0\n",
              "mean       4.456643      0.0      0.0  ...       0.0       0.0       0.0\n",
              "std        2.887730      0.0      0.0  ...       0.0       0.0       0.0\n",
              "min        0.000000      0.0      0.0  ...       0.0       0.0       0.0\n",
              "25%        2.000000      0.0      0.0  ...       0.0       0.0       0.0\n",
              "50%        4.000000      0.0      0.0  ...       0.0       0.0       0.0\n",
              "75%        7.000000      0.0      0.0  ...       0.0       0.0       0.0\n",
              "max        9.000000      0.0      0.0  ...       0.0       0.0       0.0\n",
              "\n",
              "[8 rows x 785 columns]"
            ]
          },
          "metadata": {
            "tags": []
          },
          "execution_count": 41
        }
      ]
    },
    {
      "cell_type": "code",
      "metadata": {
        "id": "1dW5TA8Ih2cf",
        "colab_type": "code",
        "colab": {
          "base_uri": "https://localhost:8080/",
          "height": 101
        },
        "outputId": "0830a3a2-eec2-4f5d-8cb3-597ac69cd537"
      },
      "source": [
        "test.info()"
      ],
      "execution_count": 42,
      "outputs": [
        {
          "output_type": "stream",
          "text": [
            "<class 'pandas.core.frame.DataFrame'>\n",
            "RangeIndex: 28000 entries, 0 to 27999\n",
            "Columns: 784 entries, pixel0 to pixel783\n",
            "dtypes: int64(784)\n",
            "memory usage: 167.5 MB\n"
          ],
          "name": "stdout"
        }
      ]
    },
    {
      "cell_type": "code",
      "metadata": {
        "id": "_ftDeeCai-qe",
        "colab_type": "code",
        "colab": {
          "base_uri": "https://localhost:8080/",
          "height": 34
        },
        "outputId": "da580f00-edda-412a-cb01-70173ae60fff"
      },
      "source": [
        "df_features = train.iloc[:, 1:785]\n",
        "df_label = train.iloc[:, 0]\n",
        "\n",
        "X_test = test.iloc[:, 0:784]\n",
        "\n",
        "print(X_test.shape)"
      ],
      "execution_count": 43,
      "outputs": [
        {
          "output_type": "stream",
          "text": [
            "(28000, 784)\n"
          ],
          "name": "stdout"
        }
      ]
    },
    {
      "cell_type": "code",
      "metadata": {
        "id": "Lc40diKhieEn",
        "colab_type": "code",
        "colab": {
          "base_uri": "https://localhost:8080/",
          "height": 333
        },
        "outputId": "29d2fe1b-4c19-4bbd-ec76-52ec6245aa8b"
      },
      "source": [
        "X_test.describe()"
      ],
      "execution_count": 44,
      "outputs": [
        {
          "output_type": "execute_result",
          "data": {
            "text/html": [
              "<div>\n",
              "<style scoped>\n",
              "    .dataframe tbody tr th:only-of-type {\n",
              "        vertical-align: middle;\n",
              "    }\n",
              "\n",
              "    .dataframe tbody tr th {\n",
              "        vertical-align: top;\n",
              "    }\n",
              "\n",
              "    .dataframe thead th {\n",
              "        text-align: right;\n",
              "    }\n",
              "</style>\n",
              "<table border=\"1\" class=\"dataframe\">\n",
              "  <thead>\n",
              "    <tr style=\"text-align: right;\">\n",
              "      <th></th>\n",
              "      <th>pixel0</th>\n",
              "      <th>pixel1</th>\n",
              "      <th>pixel2</th>\n",
              "      <th>pixel3</th>\n",
              "      <th>pixel4</th>\n",
              "      <th>pixel5</th>\n",
              "      <th>pixel6</th>\n",
              "      <th>pixel7</th>\n",
              "      <th>pixel8</th>\n",
              "      <th>pixel9</th>\n",
              "      <th>pixel10</th>\n",
              "      <th>pixel11</th>\n",
              "      <th>pixel12</th>\n",
              "      <th>pixel13</th>\n",
              "      <th>pixel14</th>\n",
              "      <th>pixel15</th>\n",
              "      <th>pixel16</th>\n",
              "      <th>pixel17</th>\n",
              "      <th>pixel18</th>\n",
              "      <th>pixel19</th>\n",
              "      <th>pixel20</th>\n",
              "      <th>pixel21</th>\n",
              "      <th>pixel22</th>\n",
              "      <th>pixel23</th>\n",
              "      <th>pixel24</th>\n",
              "      <th>pixel25</th>\n",
              "      <th>pixel26</th>\n",
              "      <th>pixel27</th>\n",
              "      <th>pixel28</th>\n",
              "      <th>pixel29</th>\n",
              "      <th>pixel30</th>\n",
              "      <th>pixel31</th>\n",
              "      <th>pixel32</th>\n",
              "      <th>pixel33</th>\n",
              "      <th>pixel34</th>\n",
              "      <th>pixel35</th>\n",
              "      <th>pixel36</th>\n",
              "      <th>pixel37</th>\n",
              "      <th>pixel38</th>\n",
              "      <th>pixel39</th>\n",
              "      <th>...</th>\n",
              "      <th>pixel744</th>\n",
              "      <th>pixel745</th>\n",
              "      <th>pixel746</th>\n",
              "      <th>pixel747</th>\n",
              "      <th>pixel748</th>\n",
              "      <th>pixel749</th>\n",
              "      <th>pixel750</th>\n",
              "      <th>pixel751</th>\n",
              "      <th>pixel752</th>\n",
              "      <th>pixel753</th>\n",
              "      <th>pixel754</th>\n",
              "      <th>pixel755</th>\n",
              "      <th>pixel756</th>\n",
              "      <th>pixel757</th>\n",
              "      <th>pixel758</th>\n",
              "      <th>pixel759</th>\n",
              "      <th>pixel760</th>\n",
              "      <th>pixel761</th>\n",
              "      <th>pixel762</th>\n",
              "      <th>pixel763</th>\n",
              "      <th>pixel764</th>\n",
              "      <th>pixel765</th>\n",
              "      <th>pixel766</th>\n",
              "      <th>pixel767</th>\n",
              "      <th>pixel768</th>\n",
              "      <th>pixel769</th>\n",
              "      <th>pixel770</th>\n",
              "      <th>pixel771</th>\n",
              "      <th>pixel772</th>\n",
              "      <th>pixel773</th>\n",
              "      <th>pixel774</th>\n",
              "      <th>pixel775</th>\n",
              "      <th>pixel776</th>\n",
              "      <th>pixel777</th>\n",
              "      <th>pixel778</th>\n",
              "      <th>pixel779</th>\n",
              "      <th>pixel780</th>\n",
              "      <th>pixel781</th>\n",
              "      <th>pixel782</th>\n",
              "      <th>pixel783</th>\n",
              "    </tr>\n",
              "  </thead>\n",
              "  <tbody>\n",
              "    <tr>\n",
              "      <th>count</th>\n",
              "      <td>28000.0</td>\n",
              "      <td>28000.0</td>\n",
              "      <td>28000.0</td>\n",
              "      <td>28000.0</td>\n",
              "      <td>28000.0</td>\n",
              "      <td>28000.0</td>\n",
              "      <td>28000.0</td>\n",
              "      <td>28000.0</td>\n",
              "      <td>28000.0</td>\n",
              "      <td>28000.0</td>\n",
              "      <td>28000.0</td>\n",
              "      <td>28000.0</td>\n",
              "      <td>28000.0</td>\n",
              "      <td>28000.0</td>\n",
              "      <td>28000.0</td>\n",
              "      <td>28000.0</td>\n",
              "      <td>28000.0</td>\n",
              "      <td>28000.0</td>\n",
              "      <td>28000.0</td>\n",
              "      <td>28000.0</td>\n",
              "      <td>28000.0</td>\n",
              "      <td>28000.0</td>\n",
              "      <td>28000.0</td>\n",
              "      <td>28000.0</td>\n",
              "      <td>28000.0</td>\n",
              "      <td>28000.0</td>\n",
              "      <td>28000.0</td>\n",
              "      <td>28000.0</td>\n",
              "      <td>28000.0</td>\n",
              "      <td>28000.0</td>\n",
              "      <td>28000.0</td>\n",
              "      <td>28000.0</td>\n",
              "      <td>28000.0</td>\n",
              "      <td>28000.000000</td>\n",
              "      <td>28000.000000</td>\n",
              "      <td>28000.000000</td>\n",
              "      <td>28000.000000</td>\n",
              "      <td>28000.000000</td>\n",
              "      <td>28000.000000</td>\n",
              "      <td>28000.000000</td>\n",
              "      <td>...</td>\n",
              "      <td>28000.000000</td>\n",
              "      <td>28000.000000</td>\n",
              "      <td>28000.000000</td>\n",
              "      <td>28000.000000</td>\n",
              "      <td>28000.000000</td>\n",
              "      <td>28000.000000</td>\n",
              "      <td>28000.000000</td>\n",
              "      <td>28000.000000</td>\n",
              "      <td>28000.000000</td>\n",
              "      <td>28000.0</td>\n",
              "      <td>28000.0</td>\n",
              "      <td>28000.0</td>\n",
              "      <td>28000.0</td>\n",
              "      <td>28000.0</td>\n",
              "      <td>28000.0</td>\n",
              "      <td>28000.0</td>\n",
              "      <td>28000.000000</td>\n",
              "      <td>28000.000000</td>\n",
              "      <td>28000.000000</td>\n",
              "      <td>28000.000000</td>\n",
              "      <td>28000.000000</td>\n",
              "      <td>28000.000000</td>\n",
              "      <td>28000.000000</td>\n",
              "      <td>28000.000000</td>\n",
              "      <td>28000.000000</td>\n",
              "      <td>28000.000000</td>\n",
              "      <td>28000.000000</td>\n",
              "      <td>28000.000000</td>\n",
              "      <td>28000.000000</td>\n",
              "      <td>28000.000000</td>\n",
              "      <td>28000.000000</td>\n",
              "      <td>28000.000000</td>\n",
              "      <td>28000.000000</td>\n",
              "      <td>28000.000000</td>\n",
              "      <td>28000.000000</td>\n",
              "      <td>28000.0</td>\n",
              "      <td>28000.0</td>\n",
              "      <td>28000.0</td>\n",
              "      <td>28000.0</td>\n",
              "      <td>28000.0</td>\n",
              "    </tr>\n",
              "    <tr>\n",
              "      <th>mean</th>\n",
              "      <td>0.0</td>\n",
              "      <td>0.0</td>\n",
              "      <td>0.0</td>\n",
              "      <td>0.0</td>\n",
              "      <td>0.0</td>\n",
              "      <td>0.0</td>\n",
              "      <td>0.0</td>\n",
              "      <td>0.0</td>\n",
              "      <td>0.0</td>\n",
              "      <td>0.0</td>\n",
              "      <td>0.0</td>\n",
              "      <td>0.0</td>\n",
              "      <td>0.0</td>\n",
              "      <td>0.0</td>\n",
              "      <td>0.0</td>\n",
              "      <td>0.0</td>\n",
              "      <td>0.0</td>\n",
              "      <td>0.0</td>\n",
              "      <td>0.0</td>\n",
              "      <td>0.0</td>\n",
              "      <td>0.0</td>\n",
              "      <td>0.0</td>\n",
              "      <td>0.0</td>\n",
              "      <td>0.0</td>\n",
              "      <td>0.0</td>\n",
              "      <td>0.0</td>\n",
              "      <td>0.0</td>\n",
              "      <td>0.0</td>\n",
              "      <td>0.0</td>\n",
              "      <td>0.0</td>\n",
              "      <td>0.0</td>\n",
              "      <td>0.0</td>\n",
              "      <td>0.0</td>\n",
              "      <td>0.001357</td>\n",
              "      <td>0.012500</td>\n",
              "      <td>0.016786</td>\n",
              "      <td>0.031714</td>\n",
              "      <td>0.056000</td>\n",
              "      <td>0.100464</td>\n",
              "      <td>0.166929</td>\n",
              "      <td>...</td>\n",
              "      <td>3.272536</td>\n",
              "      <td>2.371464</td>\n",
              "      <td>1.454357</td>\n",
              "      <td>0.846286</td>\n",
              "      <td>0.509750</td>\n",
              "      <td>0.254750</td>\n",
              "      <td>0.062107</td>\n",
              "      <td>0.015250</td>\n",
              "      <td>0.000786</td>\n",
              "      <td>0.0</td>\n",
              "      <td>0.0</td>\n",
              "      <td>0.0</td>\n",
              "      <td>0.0</td>\n",
              "      <td>0.0</td>\n",
              "      <td>0.0</td>\n",
              "      <td>0.0</td>\n",
              "      <td>0.005429</td>\n",
              "      <td>0.024179</td>\n",
              "      <td>0.036250</td>\n",
              "      <td>0.083143</td>\n",
              "      <td>0.134107</td>\n",
              "      <td>0.201071</td>\n",
              "      <td>0.325000</td>\n",
              "      <td>0.366714</td>\n",
              "      <td>0.468143</td>\n",
              "      <td>0.589429</td>\n",
              "      <td>0.656964</td>\n",
              "      <td>0.569714</td>\n",
              "      <td>0.464214</td>\n",
              "      <td>0.323679</td>\n",
              "      <td>0.164607</td>\n",
              "      <td>0.073214</td>\n",
              "      <td>0.028036</td>\n",
              "      <td>0.011250</td>\n",
              "      <td>0.006536</td>\n",
              "      <td>0.0</td>\n",
              "      <td>0.0</td>\n",
              "      <td>0.0</td>\n",
              "      <td>0.0</td>\n",
              "      <td>0.0</td>\n",
              "    </tr>\n",
              "    <tr>\n",
              "      <th>std</th>\n",
              "      <td>0.0</td>\n",
              "      <td>0.0</td>\n",
              "      <td>0.0</td>\n",
              "      <td>0.0</td>\n",
              "      <td>0.0</td>\n",
              "      <td>0.0</td>\n",
              "      <td>0.0</td>\n",
              "      <td>0.0</td>\n",
              "      <td>0.0</td>\n",
              "      <td>0.0</td>\n",
              "      <td>0.0</td>\n",
              "      <td>0.0</td>\n",
              "      <td>0.0</td>\n",
              "      <td>0.0</td>\n",
              "      <td>0.0</td>\n",
              "      <td>0.0</td>\n",
              "      <td>0.0</td>\n",
              "      <td>0.0</td>\n",
              "      <td>0.0</td>\n",
              "      <td>0.0</td>\n",
              "      <td>0.0</td>\n",
              "      <td>0.0</td>\n",
              "      <td>0.0</td>\n",
              "      <td>0.0</td>\n",
              "      <td>0.0</td>\n",
              "      <td>0.0</td>\n",
              "      <td>0.0</td>\n",
              "      <td>0.0</td>\n",
              "      <td>0.0</td>\n",
              "      <td>0.0</td>\n",
              "      <td>0.0</td>\n",
              "      <td>0.0</td>\n",
              "      <td>0.0</td>\n",
              "      <td>0.227093</td>\n",
              "      <td>1.566275</td>\n",
              "      <td>1.513515</td>\n",
              "      <td>2.674449</td>\n",
              "      <td>3.216234</td>\n",
              "      <td>4.549478</td>\n",
              "      <td>5.470524</td>\n",
              "      <td>...</td>\n",
              "      <td>25.211706</td>\n",
              "      <td>21.240003</td>\n",
              "      <td>16.643468</td>\n",
              "      <td>12.637953</td>\n",
              "      <td>9.963879</td>\n",
              "      <td>7.031504</td>\n",
              "      <td>3.040514</td>\n",
              "      <td>1.265562</td>\n",
              "      <td>0.131475</td>\n",
              "      <td>0.0</td>\n",
              "      <td>0.0</td>\n",
              "      <td>0.0</td>\n",
              "      <td>0.0</td>\n",
              "      <td>0.0</td>\n",
              "      <td>0.0</td>\n",
              "      <td>0.0</td>\n",
              "      <td>0.640468</td>\n",
              "      <td>2.234963</td>\n",
              "      <td>2.493982</td>\n",
              "      <td>3.777711</td>\n",
              "      <td>4.946940</td>\n",
              "      <td>6.262819</td>\n",
              "      <td>7.714814</td>\n",
              "      <td>8.243535</td>\n",
              "      <td>8.974038</td>\n",
              "      <td>10.488695</td>\n",
              "      <td>11.209508</td>\n",
              "      <td>10.204173</td>\n",
              "      <td>9.402197</td>\n",
              "      <td>7.878854</td>\n",
              "      <td>5.473293</td>\n",
              "      <td>3.616811</td>\n",
              "      <td>1.813602</td>\n",
              "      <td>1.205211</td>\n",
              "      <td>0.807475</td>\n",
              "      <td>0.0</td>\n",
              "      <td>0.0</td>\n",
              "      <td>0.0</td>\n",
              "      <td>0.0</td>\n",
              "      <td>0.0</td>\n",
              "    </tr>\n",
              "    <tr>\n",
              "      <th>min</th>\n",
              "      <td>0.0</td>\n",
              "      <td>0.0</td>\n",
              "      <td>0.0</td>\n",
              "      <td>0.0</td>\n",
              "      <td>0.0</td>\n",
              "      <td>0.0</td>\n",
              "      <td>0.0</td>\n",
              "      <td>0.0</td>\n",
              "      <td>0.0</td>\n",
              "      <td>0.0</td>\n",
              "      <td>0.0</td>\n",
              "      <td>0.0</td>\n",
              "      <td>0.0</td>\n",
              "      <td>0.0</td>\n",
              "      <td>0.0</td>\n",
              "      <td>0.0</td>\n",
              "      <td>0.0</td>\n",
              "      <td>0.0</td>\n",
              "      <td>0.0</td>\n",
              "      <td>0.0</td>\n",
              "      <td>0.0</td>\n",
              "      <td>0.0</td>\n",
              "      <td>0.0</td>\n",
              "      <td>0.0</td>\n",
              "      <td>0.0</td>\n",
              "      <td>0.0</td>\n",
              "      <td>0.0</td>\n",
              "      <td>0.0</td>\n",
              "      <td>0.0</td>\n",
              "      <td>0.0</td>\n",
              "      <td>0.0</td>\n",
              "      <td>0.0</td>\n",
              "      <td>0.0</td>\n",
              "      <td>0.000000</td>\n",
              "      <td>0.000000</td>\n",
              "      <td>0.000000</td>\n",
              "      <td>0.000000</td>\n",
              "      <td>0.000000</td>\n",
              "      <td>0.000000</td>\n",
              "      <td>0.000000</td>\n",
              "      <td>...</td>\n",
              "      <td>0.000000</td>\n",
              "      <td>0.000000</td>\n",
              "      <td>0.000000</td>\n",
              "      <td>0.000000</td>\n",
              "      <td>0.000000</td>\n",
              "      <td>0.000000</td>\n",
              "      <td>0.000000</td>\n",
              "      <td>0.000000</td>\n",
              "      <td>0.000000</td>\n",
              "      <td>0.0</td>\n",
              "      <td>0.0</td>\n",
              "      <td>0.0</td>\n",
              "      <td>0.0</td>\n",
              "      <td>0.0</td>\n",
              "      <td>0.0</td>\n",
              "      <td>0.0</td>\n",
              "      <td>0.000000</td>\n",
              "      <td>0.000000</td>\n",
              "      <td>0.000000</td>\n",
              "      <td>0.000000</td>\n",
              "      <td>0.000000</td>\n",
              "      <td>0.000000</td>\n",
              "      <td>0.000000</td>\n",
              "      <td>0.000000</td>\n",
              "      <td>0.000000</td>\n",
              "      <td>0.000000</td>\n",
              "      <td>0.000000</td>\n",
              "      <td>0.000000</td>\n",
              "      <td>0.000000</td>\n",
              "      <td>0.000000</td>\n",
              "      <td>0.000000</td>\n",
              "      <td>0.000000</td>\n",
              "      <td>0.000000</td>\n",
              "      <td>0.000000</td>\n",
              "      <td>0.000000</td>\n",
              "      <td>0.0</td>\n",
              "      <td>0.0</td>\n",
              "      <td>0.0</td>\n",
              "      <td>0.0</td>\n",
              "      <td>0.0</td>\n",
              "    </tr>\n",
              "    <tr>\n",
              "      <th>25%</th>\n",
              "      <td>0.0</td>\n",
              "      <td>0.0</td>\n",
              "      <td>0.0</td>\n",
              "      <td>0.0</td>\n",
              "      <td>0.0</td>\n",
              "      <td>0.0</td>\n",
              "      <td>0.0</td>\n",
              "      <td>0.0</td>\n",
              "      <td>0.0</td>\n",
              "      <td>0.0</td>\n",
              "      <td>0.0</td>\n",
              "      <td>0.0</td>\n",
              "      <td>0.0</td>\n",
              "      <td>0.0</td>\n",
              "      <td>0.0</td>\n",
              "      <td>0.0</td>\n",
              "      <td>0.0</td>\n",
              "      <td>0.0</td>\n",
              "      <td>0.0</td>\n",
              "      <td>0.0</td>\n",
              "      <td>0.0</td>\n",
              "      <td>0.0</td>\n",
              "      <td>0.0</td>\n",
              "      <td>0.0</td>\n",
              "      <td>0.0</td>\n",
              "      <td>0.0</td>\n",
              "      <td>0.0</td>\n",
              "      <td>0.0</td>\n",
              "      <td>0.0</td>\n",
              "      <td>0.0</td>\n",
              "      <td>0.0</td>\n",
              "      <td>0.0</td>\n",
              "      <td>0.0</td>\n",
              "      <td>0.000000</td>\n",
              "      <td>0.000000</td>\n",
              "      <td>0.000000</td>\n",
              "      <td>0.000000</td>\n",
              "      <td>0.000000</td>\n",
              "      <td>0.000000</td>\n",
              "      <td>0.000000</td>\n",
              "      <td>...</td>\n",
              "      <td>0.000000</td>\n",
              "      <td>0.000000</td>\n",
              "      <td>0.000000</td>\n",
              "      <td>0.000000</td>\n",
              "      <td>0.000000</td>\n",
              "      <td>0.000000</td>\n",
              "      <td>0.000000</td>\n",
              "      <td>0.000000</td>\n",
              "      <td>0.000000</td>\n",
              "      <td>0.0</td>\n",
              "      <td>0.0</td>\n",
              "      <td>0.0</td>\n",
              "      <td>0.0</td>\n",
              "      <td>0.0</td>\n",
              "      <td>0.0</td>\n",
              "      <td>0.0</td>\n",
              "      <td>0.000000</td>\n",
              "      <td>0.000000</td>\n",
              "      <td>0.000000</td>\n",
              "      <td>0.000000</td>\n",
              "      <td>0.000000</td>\n",
              "      <td>0.000000</td>\n",
              "      <td>0.000000</td>\n",
              "      <td>0.000000</td>\n",
              "      <td>0.000000</td>\n",
              "      <td>0.000000</td>\n",
              "      <td>0.000000</td>\n",
              "      <td>0.000000</td>\n",
              "      <td>0.000000</td>\n",
              "      <td>0.000000</td>\n",
              "      <td>0.000000</td>\n",
              "      <td>0.000000</td>\n",
              "      <td>0.000000</td>\n",
              "      <td>0.000000</td>\n",
              "      <td>0.000000</td>\n",
              "      <td>0.0</td>\n",
              "      <td>0.0</td>\n",
              "      <td>0.0</td>\n",
              "      <td>0.0</td>\n",
              "      <td>0.0</td>\n",
              "    </tr>\n",
              "    <tr>\n",
              "      <th>50%</th>\n",
              "      <td>0.0</td>\n",
              "      <td>0.0</td>\n",
              "      <td>0.0</td>\n",
              "      <td>0.0</td>\n",
              "      <td>0.0</td>\n",
              "      <td>0.0</td>\n",
              "      <td>0.0</td>\n",
              "      <td>0.0</td>\n",
              "      <td>0.0</td>\n",
              "      <td>0.0</td>\n",
              "      <td>0.0</td>\n",
              "      <td>0.0</td>\n",
              "      <td>0.0</td>\n",
              "      <td>0.0</td>\n",
              "      <td>0.0</td>\n",
              "      <td>0.0</td>\n",
              "      <td>0.0</td>\n",
              "      <td>0.0</td>\n",
              "      <td>0.0</td>\n",
              "      <td>0.0</td>\n",
              "      <td>0.0</td>\n",
              "      <td>0.0</td>\n",
              "      <td>0.0</td>\n",
              "      <td>0.0</td>\n",
              "      <td>0.0</td>\n",
              "      <td>0.0</td>\n",
              "      <td>0.0</td>\n",
              "      <td>0.0</td>\n",
              "      <td>0.0</td>\n",
              "      <td>0.0</td>\n",
              "      <td>0.0</td>\n",
              "      <td>0.0</td>\n",
              "      <td>0.0</td>\n",
              "      <td>0.000000</td>\n",
              "      <td>0.000000</td>\n",
              "      <td>0.000000</td>\n",
              "      <td>0.000000</td>\n",
              "      <td>0.000000</td>\n",
              "      <td>0.000000</td>\n",
              "      <td>0.000000</td>\n",
              "      <td>...</td>\n",
              "      <td>0.000000</td>\n",
              "      <td>0.000000</td>\n",
              "      <td>0.000000</td>\n",
              "      <td>0.000000</td>\n",
              "      <td>0.000000</td>\n",
              "      <td>0.000000</td>\n",
              "      <td>0.000000</td>\n",
              "      <td>0.000000</td>\n",
              "      <td>0.000000</td>\n",
              "      <td>0.0</td>\n",
              "      <td>0.0</td>\n",
              "      <td>0.0</td>\n",
              "      <td>0.0</td>\n",
              "      <td>0.0</td>\n",
              "      <td>0.0</td>\n",
              "      <td>0.0</td>\n",
              "      <td>0.000000</td>\n",
              "      <td>0.000000</td>\n",
              "      <td>0.000000</td>\n",
              "      <td>0.000000</td>\n",
              "      <td>0.000000</td>\n",
              "      <td>0.000000</td>\n",
              "      <td>0.000000</td>\n",
              "      <td>0.000000</td>\n",
              "      <td>0.000000</td>\n",
              "      <td>0.000000</td>\n",
              "      <td>0.000000</td>\n",
              "      <td>0.000000</td>\n",
              "      <td>0.000000</td>\n",
              "      <td>0.000000</td>\n",
              "      <td>0.000000</td>\n",
              "      <td>0.000000</td>\n",
              "      <td>0.000000</td>\n",
              "      <td>0.000000</td>\n",
              "      <td>0.000000</td>\n",
              "      <td>0.0</td>\n",
              "      <td>0.0</td>\n",
              "      <td>0.0</td>\n",
              "      <td>0.0</td>\n",
              "      <td>0.0</td>\n",
              "    </tr>\n",
              "    <tr>\n",
              "      <th>75%</th>\n",
              "      <td>0.0</td>\n",
              "      <td>0.0</td>\n",
              "      <td>0.0</td>\n",
              "      <td>0.0</td>\n",
              "      <td>0.0</td>\n",
              "      <td>0.0</td>\n",
              "      <td>0.0</td>\n",
              "      <td>0.0</td>\n",
              "      <td>0.0</td>\n",
              "      <td>0.0</td>\n",
              "      <td>0.0</td>\n",
              "      <td>0.0</td>\n",
              "      <td>0.0</td>\n",
              "      <td>0.0</td>\n",
              "      <td>0.0</td>\n",
              "      <td>0.0</td>\n",
              "      <td>0.0</td>\n",
              "      <td>0.0</td>\n",
              "      <td>0.0</td>\n",
              "      <td>0.0</td>\n",
              "      <td>0.0</td>\n",
              "      <td>0.0</td>\n",
              "      <td>0.0</td>\n",
              "      <td>0.0</td>\n",
              "      <td>0.0</td>\n",
              "      <td>0.0</td>\n",
              "      <td>0.0</td>\n",
              "      <td>0.0</td>\n",
              "      <td>0.0</td>\n",
              "      <td>0.0</td>\n",
              "      <td>0.0</td>\n",
              "      <td>0.0</td>\n",
              "      <td>0.0</td>\n",
              "      <td>0.000000</td>\n",
              "      <td>0.000000</td>\n",
              "      <td>0.000000</td>\n",
              "      <td>0.000000</td>\n",
              "      <td>0.000000</td>\n",
              "      <td>0.000000</td>\n",
              "      <td>0.000000</td>\n",
              "      <td>...</td>\n",
              "      <td>0.000000</td>\n",
              "      <td>0.000000</td>\n",
              "      <td>0.000000</td>\n",
              "      <td>0.000000</td>\n",
              "      <td>0.000000</td>\n",
              "      <td>0.000000</td>\n",
              "      <td>0.000000</td>\n",
              "      <td>0.000000</td>\n",
              "      <td>0.000000</td>\n",
              "      <td>0.0</td>\n",
              "      <td>0.0</td>\n",
              "      <td>0.0</td>\n",
              "      <td>0.0</td>\n",
              "      <td>0.0</td>\n",
              "      <td>0.0</td>\n",
              "      <td>0.0</td>\n",
              "      <td>0.000000</td>\n",
              "      <td>0.000000</td>\n",
              "      <td>0.000000</td>\n",
              "      <td>0.000000</td>\n",
              "      <td>0.000000</td>\n",
              "      <td>0.000000</td>\n",
              "      <td>0.000000</td>\n",
              "      <td>0.000000</td>\n",
              "      <td>0.000000</td>\n",
              "      <td>0.000000</td>\n",
              "      <td>0.000000</td>\n",
              "      <td>0.000000</td>\n",
              "      <td>0.000000</td>\n",
              "      <td>0.000000</td>\n",
              "      <td>0.000000</td>\n",
              "      <td>0.000000</td>\n",
              "      <td>0.000000</td>\n",
              "      <td>0.000000</td>\n",
              "      <td>0.000000</td>\n",
              "      <td>0.0</td>\n",
              "      <td>0.0</td>\n",
              "      <td>0.0</td>\n",
              "      <td>0.0</td>\n",
              "      <td>0.0</td>\n",
              "    </tr>\n",
              "    <tr>\n",
              "      <th>max</th>\n",
              "      <td>0.0</td>\n",
              "      <td>0.0</td>\n",
              "      <td>0.0</td>\n",
              "      <td>0.0</td>\n",
              "      <td>0.0</td>\n",
              "      <td>0.0</td>\n",
              "      <td>0.0</td>\n",
              "      <td>0.0</td>\n",
              "      <td>0.0</td>\n",
              "      <td>0.0</td>\n",
              "      <td>0.0</td>\n",
              "      <td>0.0</td>\n",
              "      <td>0.0</td>\n",
              "      <td>0.0</td>\n",
              "      <td>0.0</td>\n",
              "      <td>0.0</td>\n",
              "      <td>0.0</td>\n",
              "      <td>0.0</td>\n",
              "      <td>0.0</td>\n",
              "      <td>0.0</td>\n",
              "      <td>0.0</td>\n",
              "      <td>0.0</td>\n",
              "      <td>0.0</td>\n",
              "      <td>0.0</td>\n",
              "      <td>0.0</td>\n",
              "      <td>0.0</td>\n",
              "      <td>0.0</td>\n",
              "      <td>0.0</td>\n",
              "      <td>0.0</td>\n",
              "      <td>0.0</td>\n",
              "      <td>0.0</td>\n",
              "      <td>0.0</td>\n",
              "      <td>0.0</td>\n",
              "      <td>38.000000</td>\n",
              "      <td>236.000000</td>\n",
              "      <td>163.000000</td>\n",
              "      <td>254.000000</td>\n",
              "      <td>254.000000</td>\n",
              "      <td>255.000000</td>\n",
              "      <td>253.000000</td>\n",
              "      <td>...</td>\n",
              "      <td>255.000000</td>\n",
              "      <td>255.000000</td>\n",
              "      <td>255.000000</td>\n",
              "      <td>255.000000</td>\n",
              "      <td>255.000000</td>\n",
              "      <td>255.000000</td>\n",
              "      <td>255.000000</td>\n",
              "      <td>135.000000</td>\n",
              "      <td>22.000000</td>\n",
              "      <td>0.0</td>\n",
              "      <td>0.0</td>\n",
              "      <td>0.0</td>\n",
              "      <td>0.0</td>\n",
              "      <td>0.0</td>\n",
              "      <td>0.0</td>\n",
              "      <td>0.0</td>\n",
              "      <td>94.000000</td>\n",
              "      <td>252.000000</td>\n",
              "      <td>245.000000</td>\n",
              "      <td>254.000000</td>\n",
              "      <td>254.000000</td>\n",
              "      <td>255.000000</td>\n",
              "      <td>255.000000</td>\n",
              "      <td>254.000000</td>\n",
              "      <td>253.000000</td>\n",
              "      <td>255.000000</td>\n",
              "      <td>255.000000</td>\n",
              "      <td>255.000000</td>\n",
              "      <td>255.000000</td>\n",
              "      <td>255.000000</td>\n",
              "      <td>253.000000</td>\n",
              "      <td>254.000000</td>\n",
              "      <td>193.000000</td>\n",
              "      <td>187.000000</td>\n",
              "      <td>119.000000</td>\n",
              "      <td>0.0</td>\n",
              "      <td>0.0</td>\n",
              "      <td>0.0</td>\n",
              "      <td>0.0</td>\n",
              "      <td>0.0</td>\n",
              "    </tr>\n",
              "  </tbody>\n",
              "</table>\n",
              "<p>8 rows × 784 columns</p>\n",
              "</div>"
            ],
            "text/plain": [
              "        pixel0   pixel1   pixel2  ...  pixel781  pixel782  pixel783\n",
              "count  28000.0  28000.0  28000.0  ...   28000.0   28000.0   28000.0\n",
              "mean       0.0      0.0      0.0  ...       0.0       0.0       0.0\n",
              "std        0.0      0.0      0.0  ...       0.0       0.0       0.0\n",
              "min        0.0      0.0      0.0  ...       0.0       0.0       0.0\n",
              "25%        0.0      0.0      0.0  ...       0.0       0.0       0.0\n",
              "50%        0.0      0.0      0.0  ...       0.0       0.0       0.0\n",
              "75%        0.0      0.0      0.0  ...       0.0       0.0       0.0\n",
              "max        0.0      0.0      0.0  ...       0.0       0.0       0.0\n",
              "\n",
              "[8 rows x 784 columns]"
            ]
          },
          "metadata": {
            "tags": []
          },
          "execution_count": 44
        }
      ]
    },
    {
      "cell_type": "code",
      "metadata": {
        "id": "Q8uOkjUmjOAw",
        "colab_type": "code",
        "colab": {
          "base_uri": "https://localhost:8080/",
          "height": 138
        },
        "outputId": "766a6eeb-d57f-4b5f-d84a-be7eea6bb84f"
      },
      "source": [
        "from sklearn.model_selection import train_test_split\n",
        "X_train, X_valid, y_train, y_valid = train_test_split(df_features, df_label, \n",
        "                                                test_size = 0.2,\n",
        "                                                random_state = 42)\n",
        "\n",
        "X_train = X_train.as_matrix().reshape(33600, 784) \n",
        "X_valid = X_valid.as_matrix().reshape(8400, 784)\n",
        "\n",
        "X_test = X_test.as_matrix().reshape(28000, 784)"
      ],
      "execution_count": 45,
      "outputs": [
        {
          "output_type": "stream",
          "text": [
            "/usr/local/lib/python3.6/dist-packages/ipykernel_launcher.py:6: FutureWarning: Method .as_matrix will be removed in a future version. Use .values instead.\n",
            "  \n",
            "/usr/local/lib/python3.6/dist-packages/ipykernel_launcher.py:7: FutureWarning: Method .as_matrix will be removed in a future version. Use .values instead.\n",
            "  import sys\n",
            "/usr/local/lib/python3.6/dist-packages/ipykernel_launcher.py:9: FutureWarning: Method .as_matrix will be removed in a future version. Use .values instead.\n",
            "  if __name__ == '__main__':\n"
          ],
          "name": "stderr"
        }
      ]
    },
    {
      "cell_type": "code",
      "metadata": {
        "id": "hp8DbI7Oktm5",
        "colab_type": "code",
        "colab": {
          "base_uri": "https://localhost:8080/",
          "height": 34
        },
        "outputId": "a46ff74c-23df-4bc4-aa66-82d30d5c51c1"
      },
      "source": [
        "print((min(X_train[1]), max(X_train[1])))"
      ],
      "execution_count": 46,
      "outputs": [
        {
          "output_type": "stream",
          "text": [
            "(0, 254)\n"
          ],
          "name": "stdout"
        }
      ]
    },
    {
      "cell_type": "code",
      "metadata": {
        "id": "5ogce_jWk0tJ",
        "colab_type": "code",
        "colab": {}
      },
      "source": [
        "X_train = X_train.astype('float32')\n",
        "X_valid= X_valid.astype('float32')\n",
        "X_test = X_test.astype('float32')\n",
        "X_train /= 255\n",
        "X_valid /= 255\n",
        "X_test /= 255"
      ],
      "execution_count": 0,
      "outputs": []
    },
    {
      "cell_type": "code",
      "metadata": {
        "id": "ydX_rzDgkWjC",
        "colab_type": "code",
        "colab": {
          "base_uri": "https://localhost:8080/",
          "height": 284
        },
        "outputId": "4a5687c7-8414-4939-a6c1-529287ceb2ce"
      },
      "source": [
        "first_image = X_train_full.loc[1,:]\n",
        "first_label = y_train_full[1]\n",
        "\n",
        "# 784 columns correspond to 28x28 image\n",
        "plottable_image = np.reshape(first_image.values, (28, 28))\n",
        "\n",
        "# Plot the image\n",
        "plt.imshow(plottable_image, cmap='gray_r')\n",
        "plt.title('Digit Label: {}'.format(first_label))\n",
        "plt.show()"
      ],
      "execution_count": 416,
      "outputs": [
        {
          "output_type": "display_data",
          "data": {
            "image/png": "[encoded data removed]",
            "text/plain": [
              "<Figure size 432x288 with 1 Axes>"
            ]
          },
          "metadata": {
            "tags": []
          }
        }
      ]
    },
    {
      "cell_type": "code",
      "metadata": {
        "id": "DljSyX4QW4qp",
        "colab_type": "code",
        "colab": {}
      },
      "source": [
        "import numpy as np\n",
        "keras.backend.clear_session()\n",
        "np.random.seed(42)\n",
        "tf.random.set_seed(42)"
      ],
      "execution_count": 0,
      "outputs": []
    },
    {
      "cell_type": "markdown",
      "metadata": {
        "id": "l1_PAkCoOPTG",
        "colab_type": "text"
      },
      "source": [
        "MODEL TEST"
      ]
    },
    {
      "cell_type": "code",
      "metadata": {
        "id": "oj4xfSLU92zo",
        "colab_type": "code",
        "colab": {}
      },
      "source": [
        "img_inputs = keras.Input(shape=(784))"
      ],
      "execution_count": 0,
      "outputs": []
    },
    {
      "cell_type": "code",
      "metadata": {
        "id": "X1RTtXks93yQ",
        "colab_type": "code",
        "colab": {
          "base_uri": "https://localhost:8080/",
          "height": 34
        },
        "outputId": "1946fd18-19dc-400e-a7e0-43de9f5cb5e1"
      },
      "source": [
        "img_inputs.shape"
      ],
      "execution_count": 50,
      "outputs": [
        {
          "output_type": "execute_result",
          "data": {
            "text/plain": [
              "TensorShape([None, 784])"
            ]
          },
          "metadata": {
            "tags": []
          },
          "execution_count": 50
        }
      ]
    },
    {
      "cell_type": "code",
      "metadata": {
        "id": "kVMBTQU5VAUy",
        "colab_type": "code",
        "colab": {}
      },
      "source": [
        "from tensorflow.keras import layers"
      ],
      "execution_count": 0,
      "outputs": []
    },
    {
      "cell_type": "code",
      "metadata": {
        "id": "Fe12kRxz96Si",
        "colab_type": "code",
        "colab": {}
      },
      "source": [
        "flatten=layers.Flatten()\n",
        "x=flatten(img_inputs)\n",
        "x=layers.Dense(300, activation='relu')(x)\n",
        "x=layers.Dense(100, activation='relu')(x)"
      ],
      "execution_count": 0,
      "outputs": []
    },
    {
      "cell_type": "code",
      "metadata": {
        "id": "wE9Z0fwvlTpN",
        "colab_type": "code",
        "colab": {}
      },
      "source": [
        "outputs = layers.Dense(10, activation='softmax')(x)"
      ],
      "execution_count": 0,
      "outputs": []
    },
    {
      "cell_type": "code",
      "metadata": {
        "id": "tJBtltmH_k7v",
        "colab_type": "code",
        "colab": {}
      },
      "source": [
        "model = keras.Model(inputs=img_inputs, outputs=outputs)"
      ],
      "execution_count": 0,
      "outputs": []
    },
    {
      "cell_type": "code",
      "metadata": {
        "id": "I6XZejJi_v-Z",
        "colab_type": "code",
        "colab": {
          "base_uri": "https://localhost:8080/",
          "height": 319
        },
        "outputId": "6fb0cd37-6a77-4500-ce55-457c25b7921f"
      },
      "source": [
        "model.summary()"
      ],
      "execution_count": 55,
      "outputs": [
        {
          "output_type": "stream",
          "text": [
            "Model: \"model\"\n",
            "_________________________________________________________________\n",
            "Layer (type)                 Output Shape              Param #   \n",
            "=================================================================\n",
            "input_1 (InputLayer)         [(None, 784)]             0         \n",
            "_________________________________________________________________\n",
            "flatten (Flatten)            (None, 784)               0         \n",
            "_________________________________________________________________\n",
            "dense (Dense)                (None, 300)               235500    \n",
            "_________________________________________________________________\n",
            "dense_1 (Dense)              (None, 100)               30100     \n",
            "_________________________________________________________________\n",
            "dense_2 (Dense)              (None, 10)                1010      \n",
            "=================================================================\n",
            "Total params: 266,610\n",
            "Trainable params: 266,610\n",
            "Non-trainable params: 0\n",
            "_________________________________________________________________\n"
          ],
          "name": "stdout"
        }
      ]
    },
    {
      "cell_type": "code",
      "metadata": {
        "id": "NYMPdOARD1tF",
        "colab_type": "code",
        "colab": {}
      },
      "source": [
        "model.compile(loss=keras.losses.sparse_categorical_crossentropy, optimizer=\"sgd\", metrics=[keras.metrics.sparse_categorical_accuracy])"
      ],
      "execution_count": 0,
      "outputs": []
    },
    {
      "cell_type": "code",
      "metadata": {
        "id": "ONtGR5kNPuQ8",
        "colab_type": "code",
        "outputId": "a1ec7598-eb99-4b63-f98e-c05404149674",
        "colab": {
          "base_uri": "https://localhost:8080/",
          "height": 1000
        }
      },
      "source": [
        "%time history=model.fit(X_train, y_train, epochs=30, validation_data=(X_valid,y_valid))"
      ],
      "execution_count": 33,
      "outputs": [
        {
          "output_type": "stream",
          "text": [
            "Train on 33600 samples, validate on 8400 samples\n",
            "Epoch 1/30\n",
            "33600/33600 [==============================] - 4s 129us/sample - loss: 0.7535 - sparse_categorical_accuracy: 0.8189 - val_loss: 0.3896 - val_sparse_categorical_accuracy: 0.8914\n",
            "Epoch 2/30\n",
            "33600/33600 [==============================] - 3s 82us/sample - loss: 0.3238 - sparse_categorical_accuracy: 0.9073 - val_loss: 0.3025 - val_sparse_categorical_accuracy: 0.9140\n",
            "Epoch 3/30\n",
            "33600/33600 [==============================] - 3s 78us/sample - loss: 0.2671 - sparse_categorical_accuracy: 0.9240 - val_loss: 0.2615 - val_sparse_categorical_accuracy: 0.9232\n",
            "Epoch 4/30\n",
            "33600/33600 [==============================] - 3s 79us/sample - loss: 0.2329 - sparse_categorical_accuracy: 0.9333 - val_loss: 0.2398 - val_sparse_categorical_accuracy: 0.9293\n",
            "Epoch 5/30\n",
            "33600/33600 [==============================] - 3s 79us/sample - loss: 0.2077 - sparse_categorical_accuracy: 0.9399 - val_loss: 0.2184 - val_sparse_categorical_accuracy: 0.9381\n",
            "Epoch 6/30\n",
            "33600/33600 [==============================] - 3s 80us/sample - loss: 0.1875 - sparse_categorical_accuracy: 0.9465 - val_loss: 0.1994 - val_sparse_categorical_accuracy: 0.9435\n",
            "Epoch 7/30\n",
            "33600/33600 [==============================] - 3s 82us/sample - loss: 0.1710 - sparse_categorical_accuracy: 0.9507 - val_loss: 0.1886 - val_sparse_categorical_accuracy: 0.9455\n",
            "Epoch 8/30\n",
            "33600/33600 [==============================] - 3s 79us/sample - loss: 0.1573 - sparse_categorical_accuracy: 0.9549 - val_loss: 0.1772 - val_sparse_categorical_accuracy: 0.9487\n",
            "Epoch 9/30\n",
            "33600/33600 [==============================] - 3s 80us/sample - loss: 0.1450 - sparse_categorical_accuracy: 0.9590 - val_loss: 0.1649 - val_sparse_categorical_accuracy: 0.9529\n",
            "Epoch 10/30\n",
            "33600/33600 [==============================] - 3s 83us/sample - loss: 0.1345 - sparse_categorical_accuracy: 0.9620 - val_loss: 0.1582 - val_sparse_categorical_accuracy: 0.9545\n",
            "Epoch 11/30\n",
            "33600/33600 [==============================] - 3s 82us/sample - loss: 0.1253 - sparse_categorical_accuracy: 0.9648 - val_loss: 0.1531 - val_sparse_categorical_accuracy: 0.9555\n",
            "Epoch 12/30\n",
            "33600/33600 [==============================] - 3s 80us/sample - loss: 0.1165 - sparse_categorical_accuracy: 0.9672 - val_loss: 0.1448 - val_sparse_categorical_accuracy: 0.9579\n",
            "Epoch 13/30\n",
            "33600/33600 [==============================] - 3s 79us/sample - loss: 0.1091 - sparse_categorical_accuracy: 0.9701 - val_loss: 0.1441 - val_sparse_categorical_accuracy: 0.9576\n",
            "Epoch 14/30\n",
            "33600/33600 [==============================] - 3s 79us/sample - loss: 0.1028 - sparse_categorical_accuracy: 0.9715 - val_loss: 0.1340 - val_sparse_categorical_accuracy: 0.9612\n",
            "Epoch 15/30\n",
            "33600/33600 [==============================] - 3s 80us/sample - loss: 0.0964 - sparse_categorical_accuracy: 0.9737 - val_loss: 0.1337 - val_sparse_categorical_accuracy: 0.9604\n",
            "Epoch 16/30\n",
            "33600/33600 [==============================] - 3s 79us/sample - loss: 0.0907 - sparse_categorical_accuracy: 0.9753 - val_loss: 0.1316 - val_sparse_categorical_accuracy: 0.9610\n",
            "Epoch 17/30\n",
            "33600/33600 [==============================] - 3s 79us/sample - loss: 0.0849 - sparse_categorical_accuracy: 0.9774 - val_loss: 0.1253 - val_sparse_categorical_accuracy: 0.9626\n",
            "Epoch 18/30\n",
            "33600/33600 [==============================] - 3s 78us/sample - loss: 0.0805 - sparse_categorical_accuracy: 0.9785 - val_loss: 0.1201 - val_sparse_categorical_accuracy: 0.9646\n",
            "Epoch 19/30\n",
            "33600/33600 [==============================] - 3s 78us/sample - loss: 0.0759 - sparse_categorical_accuracy: 0.9796 - val_loss: 0.1169 - val_sparse_categorical_accuracy: 0.9640\n",
            "Epoch 20/30\n",
            "33600/33600 [==============================] - 3s 79us/sample - loss: 0.0722 - sparse_categorical_accuracy: 0.9815 - val_loss: 0.1154 - val_sparse_categorical_accuracy: 0.9648\n",
            "Epoch 21/30\n",
            "33600/33600 [==============================] - 3s 80us/sample - loss: 0.0682 - sparse_categorical_accuracy: 0.9821 - val_loss: 0.1155 - val_sparse_categorical_accuracy: 0.9650\n",
            "Epoch 22/30\n",
            "33600/33600 [==============================] - 3s 79us/sample - loss: 0.0643 - sparse_categorical_accuracy: 0.9837 - val_loss: 0.1106 - val_sparse_categorical_accuracy: 0.9667\n",
            "Epoch 23/30\n",
            "33600/33600 [==============================] - 3s 81us/sample - loss: 0.0612 - sparse_categorical_accuracy: 0.9843 - val_loss: 0.1105 - val_sparse_categorical_accuracy: 0.9662\n",
            "Epoch 24/30\n",
            "33600/33600 [==============================] - 3s 81us/sample - loss: 0.0581 - sparse_categorical_accuracy: 0.9856 - val_loss: 0.1078 - val_sparse_categorical_accuracy: 0.9663\n",
            "Epoch 25/30\n",
            "33600/33600 [==============================] - 3s 83us/sample - loss: 0.0553 - sparse_categorical_accuracy: 0.9860 - val_loss: 0.1073 - val_sparse_categorical_accuracy: 0.9673\n",
            "Epoch 26/30\n",
            "33600/33600 [==============================] - 3s 80us/sample - loss: 0.0524 - sparse_categorical_accuracy: 0.9869 - val_loss: 0.1048 - val_sparse_categorical_accuracy: 0.9685\n",
            "Epoch 27/30\n",
            "33600/33600 [==============================] - 3s 83us/sample - loss: 0.0499 - sparse_categorical_accuracy: 0.9878 - val_loss: 0.1034 - val_sparse_categorical_accuracy: 0.9679\n",
            "Epoch 28/30\n",
            "33600/33600 [==============================] - 3s 87us/sample - loss: 0.0473 - sparse_categorical_accuracy: 0.9886 - val_loss: 0.1028 - val_sparse_categorical_accuracy: 0.9677\n",
            "Epoch 29/30\n",
            "33600/33600 [==============================] - 3s 87us/sample - loss: 0.0450 - sparse_categorical_accuracy: 0.9899 - val_loss: 0.1027 - val_sparse_categorical_accuracy: 0.9679\n",
            "Epoch 30/30\n",
            "33600/33600 [==============================] - 3s 91us/sample - loss: 0.0429 - sparse_categorical_accuracy: 0.9893 - val_loss: 0.1013 - val_sparse_categorical_accuracy: 0.9676\n",
            "CPU times: user 1min 38s, sys: 8.84 s, total: 1min 47s\n",
            "Wall time: 1min 23s\n"
          ],
          "name": "stdout"
        }
      ]
    },
    {
      "cell_type": "code",
      "metadata": {
        "id": "xWHXqhSO_HxJ",
        "colab_type": "code",
        "colab": {
          "base_uri": "https://localhost:8080/",
          "height": 185
        },
        "outputId": "7f9f4125-88d3-4564-8fdc-cd73628826b3"
      },
      "source": [
        "history.params"
      ],
      "execution_count": 57,
      "outputs": [
        {
          "output_type": "execute_result",
          "data": {
            "text/plain": [
              "{'batch_size': 32,\n",
              " 'do_validation': True,\n",
              " 'epochs': 30,\n",
              " 'metrics': ['loss',\n",
              "  'sparse_categorical_accuracy',\n",
              "  'val_loss',\n",
              "  'val_sparse_categorical_accuracy'],\n",
              " 'samples': 33600,\n",
              " 'steps': 1050,\n",
              " 'verbose': 0}"
            ]
          },
          "metadata": {
            "tags": []
          },
          "execution_count": 57
        }
      ]
    },
    {
      "cell_type": "code",
      "metadata": {
        "id": "UF4B7wLYDyhx",
        "colab_type": "code",
        "colab": {
          "base_uri": "https://localhost:8080/",
          "height": 34
        },
        "outputId": "92812e8f-0d48-45f1-ca22-767814d546ca"
      },
      "source": [
        "print(history.epoch)"
      ],
      "execution_count": 58,
      "outputs": [
        {
          "output_type": "stream",
          "text": [
            "[0, 1, 2, 3, 4, 5, 6, 7, 8, 9, 10, 11, 12, 13, 14, 15, 16, 17, 18, 19, 20, 21, 22, 23, 24, 25, 26, 27, 28, 29]\n"
          ],
          "name": "stdout"
        }
      ]
    },
    {
      "cell_type": "code",
      "metadata": {
        "id": "yTY_nK_PD9O2",
        "colab_type": "code",
        "colab": {
          "base_uri": "https://localhost:8080/",
          "height": 34
        },
        "outputId": "07d804d6-70fd-4586-e382-dd6b06d69e03"
      },
      "source": [
        "history.history.keys()"
      ],
      "execution_count": 59,
      "outputs": [
        {
          "output_type": "execute_result",
          "data": {
            "text/plain": [
              "dict_keys(['loss', 'sparse_categorical_accuracy', 'val_loss', 'val_sparse_categorical_accuracy'])"
            ]
          },
          "metadata": {
            "tags": []
          },
          "execution_count": 59
        }
      ]
    },
    {
      "cell_type": "code",
      "metadata": {
        "id": "77JSgeXeEA4i",
        "colab_type": "code",
        "colab": {
          "base_uri": "https://localhost:8080/",
          "height": 320
        },
        "outputId": "ae59bd89-6784-48e3-bd8a-88910d8860b4"
      },
      "source": [
        "import pandas as pd\n",
        "import matplotlib.pyplot as plt\n",
        "\n",
        "pd.DataFrame(history.history).plot(figsize=(8,5))\n",
        "plt.grid(True)\n",
        "plt.show()"
      ],
      "execution_count": 61,
      "outputs": [
        {
          "output_type": "display_data",
          "data": {
            "image/png": "[encoded data removed]",
            "text/plain": [
              "<Figure size 576x360 with 1 Axes>"
            ]
          },
          "metadata": {
            "tags": []
          }
        }
      ]
    },
    {
      "cell_type": "code",
      "metadata": {
        "id": "sCee_gB8PUKm",
        "colab_type": "code",
        "colab": {
          "base_uri": "https://localhost:8080/",
          "height": 50
        },
        "outputId": "a2f1f0e5-39bd-4803-a6ca-59c5cf3261c4"
      },
      "source": [
        "model.evaluate(X_train,y_train)"
      ],
      "execution_count": 62,
      "outputs": [
        {
          "output_type": "stream",
          "text": [
            "33600/33600 [==============================] - 2s 54us/sample - loss: 2.4364 - sparse_categorical_accuracy: 0.0792\n"
          ],
          "name": "stdout"
        },
        {
          "output_type": "execute_result",
          "data": {
            "text/plain": [
              "[2.436372249239967, 0.07919643]"
            ]
          },
          "metadata": {
            "tags": []
          },
          "execution_count": 62
        }
      ]
    },
    {
      "cell_type": "code",
      "metadata": {
        "id": "V1HersT2FNpq",
        "colab_type": "code",
        "colab": {
          "base_uri": "https://localhost:8080/",
          "height": 202
        },
        "outputId": "ac169f50-06c0-4e5b-93c0-17137df08d8b"
      },
      "source": [
        "X_new=X_test[:10]\n",
        "y_proba=model.predict(X_new)\n",
        "y_proba.round(2)"
      ],
      "execution_count": 63,
      "outputs": [
        {
          "output_type": "execute_result",
          "data": {
            "text/plain": [
              "array([[0.16, 0.17, 0.06, 0.08, 0.06, 0.19, 0.12, 0.02, 0.07, 0.06],\n",
              "       [0.22, 0.16, 0.05, 0.04, 0.07, 0.15, 0.13, 0.04, 0.09, 0.05],\n",
              "       [0.14, 0.13, 0.06, 0.07, 0.09, 0.13, 0.13, 0.08, 0.09, 0.08],\n",
              "       [0.12, 0.14, 0.07, 0.09, 0.11, 0.12, 0.11, 0.05, 0.11, 0.09],\n",
              "       [0.18, 0.13, 0.07, 0.08, 0.06, 0.16, 0.09, 0.07, 0.08, 0.07],\n",
              "       [0.12, 0.14, 0.11, 0.08, 0.06, 0.14, 0.15, 0.06, 0.08, 0.05],\n",
              "       [0.2 , 0.15, 0.05, 0.04, 0.06, 0.13, 0.14, 0.05, 0.1 , 0.07],\n",
              "       [0.25, 0.16, 0.04, 0.06, 0.05, 0.16, 0.11, 0.04, 0.07, 0.05],\n",
              "       [0.21, 0.18, 0.04, 0.04, 0.06, 0.14, 0.13, 0.04, 0.1 , 0.05],\n",
              "       [0.17, 0.12, 0.07, 0.07, 0.07, 0.14, 0.11, 0.08, 0.1 , 0.07]],\n",
              "      dtype=float32)"
            ]
          },
          "metadata": {
            "tags": []
          },
          "execution_count": 63
        }
      ]
    },
    {
      "cell_type": "code",
      "metadata": {
        "id": "RTlyV2OiFrEL",
        "colab_type": "code",
        "colab": {
          "base_uri": "https://localhost:8080/",
          "height": 50
        },
        "outputId": "a57d44dc-99d6-4c00-abcc-07afa3c89109"
      },
      "source": [
        "y_proba.round(2)[8]"
      ],
      "execution_count": 64,
      "outputs": [
        {
          "output_type": "execute_result",
          "data": {
            "text/plain": [
              "array([0.21, 0.18, 0.04, 0.04, 0.06, 0.14, 0.13, 0.04, 0.1 , 0.05],\n",
              "      dtype=float32)"
            ]
          },
          "metadata": {
            "tags": []
          },
          "execution_count": 64
        }
      ]
    },
    {
      "cell_type": "code",
      "metadata": {
        "id": "KInF4WmNHBI5",
        "colab_type": "code",
        "colab": {}
      },
      "source": [
        "y_pred=model.predict(X_test)"
      ],
      "execution_count": 0,
      "outputs": []
    },
    {
      "cell_type": "code",
      "metadata": {
        "id": "NBJOC-T40Wcg",
        "colab_type": "code",
        "colab": {}
      },
      "source": [
        "np.savetxt('y_pred.csv', y_pred, delimiter=',')"
      ],
      "execution_count": 0,
      "outputs": []
    },
    {
      "cell_type": "code",
      "metadata": {
        "id": "x1gO83Mu1HQO",
        "colab_type": "code",
        "colab": {}
      },
      "source": [
        "from google.colab import files"
      ],
      "execution_count": 0,
      "outputs": []
    },
    {
      "cell_type": "code",
      "metadata": {
        "id": "7kVOEpHvK-_4",
        "colab_type": "code",
        "colab": {
          "base_uri": "https://localhost:8080/",
          "height": 67
        },
        "outputId": "15eb525f-2917-4638-e8c0-1fec4a16d361"
      },
      "source": [
        "y_pred[4]"
      ],
      "execution_count": 67,
      "outputs": [
        {
          "output_type": "execute_result",
          "data": {
            "text/plain": [
              "array([3.3185763e-08, 4.3932127e-05, 3.7131773e-04, 9.9945360e-01,\n",
              "       3.3878397e-12, 8.2881546e-05, 3.6668985e-07, 2.7964879e-07,\n",
              "       4.7484922e-05, 1.0335974e-08], dtype=float32)"
            ]
          },
          "metadata": {
            "tags": []
          },
          "execution_count": 67
        }
      ]
    },
    {
      "cell_type": "code",
      "metadata": {
        "id": "HBR8lDueKO-W",
        "colab_type": "code",
        "colab": {}
      },
      "source": [
        "pred=[]\n",
        "for i in range(len(y_pred)):\n",
        "  pred1=np.argmax(y_pred[i])\n",
        "  pred.append(pred1)\n",
        "  "
      ],
      "execution_count": 0,
      "outputs": []
    },
    {
      "cell_type": "code",
      "metadata": {
        "id": "552msDYHMjU6",
        "colab_type": "code",
        "colab": {
          "base_uri": "https://localhost:8080/",
          "height": 185
        },
        "outputId": "1e18db4e-d4d3-4b3c-92db-ec14080d6f84"
      },
      "source": [
        "for numb in range(0,10):\n",
        "  print('number of',numb,pred.count(numb))"
      ],
      "execution_count": 69,
      "outputs": [
        {
          "output_type": "stream",
          "text": [
            "number of 0 2744\n",
            "number of 1 3226\n",
            "number of 2 2791\n",
            "number of 3 2749\n",
            "number of 4 2742\n",
            "number of 5 2526\n",
            "number of 6 2799\n",
            "number of 7 2903\n",
            "number of 8 2707\n",
            "number of 9 2813\n"
          ],
          "name": "stdout"
        }
      ]
    },
    {
      "cell_type": "code",
      "metadata": {
        "id": "u01mmAy1NZXr",
        "colab_type": "code",
        "colab": {
          "base_uri": "https://localhost:8080/",
          "height": 218
        },
        "outputId": "70ae70c8-35e2-4bac-a252-b52b3d8d5e99"
      },
      "source": [
        "y_train"
      ],
      "execution_count": 70,
      "outputs": [
        {
          "output_type": "execute_result",
          "data": {
            "text/plain": [
              "34941    6\n",
              "24433    5\n",
              "24432    3\n",
              "8832     4\n",
              "30291    7\n",
              "        ..\n",
              "6265     9\n",
              "11284    9\n",
              "38158    2\n",
              "860      6\n",
              "15795    0\n",
              "Name: label, Length: 33600, dtype: int64"
            ]
          },
          "metadata": {
            "tags": []
          },
          "execution_count": 70
        }
      ]
    },
    {
      "cell_type": "code",
      "metadata": {
        "id": "EImhuCUvNs6B",
        "colab_type": "code",
        "colab": {}
      },
      "source": [
        "y_pred_new=np.asarray(pred)"
      ],
      "execution_count": 0,
      "outputs": []
    },
    {
      "cell_type": "code",
      "metadata": {
        "id": "PnaCG8kuN9zn",
        "colab_type": "code",
        "colab": {
          "base_uri": "https://localhost:8080/",
          "height": 34
        },
        "outputId": "977e5614-d264-46a2-a87f-c9dd2289dbc4"
      },
      "source": [
        "y_pred_new"
      ],
      "execution_count": 72,
      "outputs": [
        {
          "output_type": "execute_result",
          "data": {
            "text/plain": [
              "array([2, 0, 9, ..., 3, 9, 2])"
            ]
          },
          "metadata": {
            "tags": []
          },
          "execution_count": 72
        }
      ]
    },
    {
      "cell_type": "markdown",
      "metadata": {
        "id": "Z0XUfMZ1OG3v",
        "colab_type": "text"
      },
      "source": [
        "MODEL #1"
      ]
    },
    {
      "cell_type": "code",
      "metadata": {
        "id": "YBcL54k6KV8P",
        "colab_type": "code",
        "colab": {}
      },
      "source": [
        "img_inputs = keras.Input(shape=(784))\n",
        "flatten=layers.Flatten()\n",
        "x=flatten(img_inputs)\n",
        "x=layers.Dense(300, activation='relu')(x)\n",
        "x=layers.Dense(300, activation='relu')(x)"
      ],
      "execution_count": 0,
      "outputs": []
    },
    {
      "cell_type": "code",
      "metadata": {
        "id": "iCkz4fFrW7dm",
        "colab_type": "code",
        "colab": {}
      },
      "source": [
        "outputs = layers.Dense(10, activation='softmax')(x)"
      ],
      "execution_count": 0,
      "outputs": []
    },
    {
      "cell_type": "code",
      "metadata": {
        "id": "PKPtvhpbXHpf",
        "colab_type": "code",
        "colab": {}
      },
      "source": [
        "model = keras.Model(inputs=img_inputs, outputs=outputs)"
      ],
      "execution_count": 0,
      "outputs": []
    },
    {
      "cell_type": "code",
      "metadata": {
        "id": "X192XKyaXNtj",
        "colab_type": "code",
        "colab": {
          "base_uri": "https://localhost:8080/",
          "height": 319
        },
        "outputId": "b76d37b8-1d7a-419c-8e9c-8f59265f284a"
      },
      "source": [
        "model.summary()"
      ],
      "execution_count": 84,
      "outputs": [
        {
          "output_type": "stream",
          "text": [
            "Model: \"model_2\"\n",
            "_________________________________________________________________\n",
            "Layer (type)                 Output Shape              Param #   \n",
            "=================================================================\n",
            "input_3 (InputLayer)         [(None, 784)]             0         \n",
            "_________________________________________________________________\n",
            "flatten_2 (Flatten)          (None, 784)               0         \n",
            "_________________________________________________________________\n",
            "dense_6 (Dense)              (None, 300)               235500    \n",
            "_________________________________________________________________\n",
            "dense_7 (Dense)              (None, 300)               90300     \n",
            "_________________________________________________________________\n",
            "dense_8 (Dense)              (None, 10)                3010      \n",
            "=================================================================\n",
            "Total params: 328,810\n",
            "Trainable params: 328,810\n",
            "Non-trainable params: 0\n",
            "_________________________________________________________________\n"
          ],
          "name": "stdout"
        }
      ]
    },
    {
      "cell_type": "code",
      "metadata": {
        "id": "AcHM1YBlXPP-",
        "colab_type": "code",
        "colab": {}
      },
      "source": [
        "model.compile(loss=keras.losses.sparse_categorical_crossentropy, optimizer=\"sgd\", metrics=[keras.metrics.sparse_categorical_accuracy])"
      ],
      "execution_count": 0,
      "outputs": []
    },
    {
      "cell_type": "code",
      "metadata": {
        "id": "RNNOoROsXdOI",
        "colab_type": "code",
        "colab": {
          "base_uri": "https://localhost:8080/",
          "height": 1000
        },
        "outputId": "2cfbbb88-f244-4c3b-ac81-1e3986748fc5"
      },
      "source": [
        "%time history1=model.fit(X_train, y_train, epochs=30, validation_data=(X_valid,y_valid))"
      ],
      "execution_count": 86,
      "outputs": [
        {
          "output_type": "stream",
          "text": [
            "Train on 33600 samples, validate on 8400 samples\n",
            "Epoch 1/30\n",
            "33600/33600 [==============================] - 3s 92us/sample - loss: 0.7862 - sparse_categorical_accuracy: 0.8103 - val_loss: 0.3926 - val_sparse_categorical_accuracy: 0.8923\n",
            "Epoch 2/30\n",
            "33600/33600 [==============================] - 3s 83us/sample - loss: 0.3313 - sparse_categorical_accuracy: 0.9068 - val_loss: 0.3112 - val_sparse_categorical_accuracy: 0.9106\n",
            "Epoch 3/30\n",
            "33600/33600 [==============================] - 3s 83us/sample - loss: 0.2748 - sparse_categorical_accuracy: 0.9222 - val_loss: 0.2706 - val_sparse_categorical_accuracy: 0.9229\n",
            "Epoch 4/30\n",
            "33600/33600 [==============================] - 3s 86us/sample - loss: 0.2404 - sparse_categorical_accuracy: 0.9313 - val_loss: 0.2494 - val_sparse_categorical_accuracy: 0.9302\n",
            "Epoch 5/30\n",
            "33600/33600 [==============================] - 3s 82us/sample - loss: 0.2141 - sparse_categorical_accuracy: 0.9393 - val_loss: 0.2294 - val_sparse_categorical_accuracy: 0.9352\n",
            "Epoch 6/30\n",
            "33600/33600 [==============================] - 3s 80us/sample - loss: 0.1939 - sparse_categorical_accuracy: 0.9445 - val_loss: 0.2086 - val_sparse_categorical_accuracy: 0.9419\n",
            "Epoch 7/30\n",
            "33600/33600 [==============================] - 3s 81us/sample - loss: 0.1765 - sparse_categorical_accuracy: 0.9494 - val_loss: 0.1966 - val_sparse_categorical_accuracy: 0.9455\n",
            "Epoch 8/30\n",
            "33600/33600 [==============================] - 3s 84us/sample - loss: 0.1620 - sparse_categorical_accuracy: 0.9542 - val_loss: 0.1842 - val_sparse_categorical_accuracy: 0.9496\n",
            "Epoch 9/30\n",
            "33600/33600 [==============================] - 3s 81us/sample - loss: 0.1493 - sparse_categorical_accuracy: 0.9584 - val_loss: 0.1709 - val_sparse_categorical_accuracy: 0.9525\n",
            "Epoch 10/30\n",
            "33600/33600 [==============================] - 3s 82us/sample - loss: 0.1383 - sparse_categorical_accuracy: 0.9607 - val_loss: 0.1661 - val_sparse_categorical_accuracy: 0.9552\n",
            "Epoch 11/30\n",
            "33600/33600 [==============================] - 3s 82us/sample - loss: 0.1285 - sparse_categorical_accuracy: 0.9640 - val_loss: 0.1596 - val_sparse_categorical_accuracy: 0.9548\n",
            "Epoch 12/30\n",
            "33600/33600 [==============================] - 3s 83us/sample - loss: 0.1196 - sparse_categorical_accuracy: 0.9667 - val_loss: 0.1499 - val_sparse_categorical_accuracy: 0.9585\n",
            "Epoch 13/30\n",
            "33600/33600 [==============================] - 3s 82us/sample - loss: 0.1117 - sparse_categorical_accuracy: 0.9685 - val_loss: 0.1496 - val_sparse_categorical_accuracy: 0.9573\n",
            "Epoch 14/30\n",
            "33600/33600 [==============================] - 3s 84us/sample - loss: 0.1052 - sparse_categorical_accuracy: 0.9705 - val_loss: 0.1381 - val_sparse_categorical_accuracy: 0.9620\n",
            "Epoch 15/30\n",
            "33600/33600 [==============================] - 3s 83us/sample - loss: 0.0984 - sparse_categorical_accuracy: 0.9731 - val_loss: 0.1382 - val_sparse_categorical_accuracy: 0.9606\n",
            "Epoch 16/30\n",
            "33600/33600 [==============================] - 3s 81us/sample - loss: 0.0927 - sparse_categorical_accuracy: 0.9747 - val_loss: 0.1333 - val_sparse_categorical_accuracy: 0.9620\n",
            "Epoch 17/30\n",
            "33600/33600 [==============================] - 3s 82us/sample - loss: 0.0869 - sparse_categorical_accuracy: 0.9760 - val_loss: 0.1290 - val_sparse_categorical_accuracy: 0.9629\n",
            "Epoch 18/30\n",
            "33600/33600 [==============================] - 3s 81us/sample - loss: 0.0820 - sparse_categorical_accuracy: 0.9781 - val_loss: 0.1225 - val_sparse_categorical_accuracy: 0.9642\n",
            "Epoch 19/30\n",
            "33600/33600 [==============================] - 3s 82us/sample - loss: 0.0773 - sparse_categorical_accuracy: 0.9790 - val_loss: 0.1199 - val_sparse_categorical_accuracy: 0.9651\n",
            "Epoch 20/30\n",
            "33600/33600 [==============================] - 3s 82us/sample - loss: 0.0735 - sparse_categorical_accuracy: 0.9800 - val_loss: 0.1172 - val_sparse_categorical_accuracy: 0.9660\n",
            "Epoch 21/30\n",
            "33600/33600 [==============================] - 3s 82us/sample - loss: 0.0693 - sparse_categorical_accuracy: 0.9814 - val_loss: 0.1188 - val_sparse_categorical_accuracy: 0.9642\n",
            "Epoch 22/30\n",
            "33600/33600 [==============================] - 3s 85us/sample - loss: 0.0653 - sparse_categorical_accuracy: 0.9832 - val_loss: 0.1125 - val_sparse_categorical_accuracy: 0.9668\n",
            "Epoch 23/30\n",
            "33600/33600 [==============================] - 3s 83us/sample - loss: 0.0621 - sparse_categorical_accuracy: 0.9845 - val_loss: 0.1119 - val_sparse_categorical_accuracy: 0.9670\n",
            "Epoch 24/30\n",
            "33600/33600 [==============================] - 3s 80us/sample - loss: 0.0587 - sparse_categorical_accuracy: 0.9851 - val_loss: 0.1091 - val_sparse_categorical_accuracy: 0.9668\n",
            "Epoch 25/30\n",
            "33600/33600 [==============================] - 3s 84us/sample - loss: 0.0559 - sparse_categorical_accuracy: 0.9858 - val_loss: 0.1082 - val_sparse_categorical_accuracy: 0.9668\n",
            "Epoch 26/30\n",
            "33600/33600 [==============================] - 3s 84us/sample - loss: 0.0530 - sparse_categorical_accuracy: 0.9869 - val_loss: 0.1063 - val_sparse_categorical_accuracy: 0.9675\n",
            "Epoch 27/30\n",
            "33600/33600 [==============================] - 3s 83us/sample - loss: 0.0505 - sparse_categorical_accuracy: 0.9872 - val_loss: 0.1031 - val_sparse_categorical_accuracy: 0.9688\n",
            "Epoch 28/30\n",
            "33600/33600 [==============================] - 3s 82us/sample - loss: 0.0479 - sparse_categorical_accuracy: 0.9882 - val_loss: 0.1020 - val_sparse_categorical_accuracy: 0.9687\n",
            "Epoch 29/30\n",
            "33600/33600 [==============================] - 3s 81us/sample - loss: 0.0454 - sparse_categorical_accuracy: 0.9899 - val_loss: 0.1019 - val_sparse_categorical_accuracy: 0.9692\n",
            "Epoch 30/30\n",
            "33600/33600 [==============================] - 3s 83us/sample - loss: 0.0433 - sparse_categorical_accuracy: 0.9898 - val_loss: 0.1002 - val_sparse_categorical_accuracy: 0.9690\n",
            "CPU times: user 1min 40s, sys: 9.13 s, total: 1min 49s\n",
            "Wall time: 1min 23s\n"
          ],
          "name": "stdout"
        }
      ]
    },
    {
      "cell_type": "code",
      "metadata": {
        "id": "1VbHR6IlXhe9",
        "colab_type": "code",
        "colab": {
          "base_uri": "https://localhost:8080/",
          "height": 185
        },
        "outputId": "56d7757a-d61a-4338-a294-3327d5494f5e"
      },
      "source": [
        "history1.params"
      ],
      "execution_count": 87,
      "outputs": [
        {
          "output_type": "execute_result",
          "data": {
            "text/plain": [
              "{'batch_size': 32,\n",
              " 'do_validation': True,\n",
              " 'epochs': 30,\n",
              " 'metrics': ['loss',\n",
              "  'sparse_categorical_accuracy',\n",
              "  'val_loss',\n",
              "  'val_sparse_categorical_accuracy'],\n",
              " 'samples': 33600,\n",
              " 'steps': 1050,\n",
              " 'verbose': 0}"
            ]
          },
          "metadata": {
            "tags": []
          },
          "execution_count": 87
        }
      ]
    },
    {
      "cell_type": "code",
      "metadata": {
        "id": "FPnKQd_tYR5v",
        "colab_type": "code",
        "colab": {
          "base_uri": "https://localhost:8080/",
          "height": 320
        },
        "outputId": "fbda49a0-1c57-40e9-91be-5c0c4b6561f7"
      },
      "source": [
        "pd.DataFrame(history1.history).plot(figsize=(8,5))\n",
        "plt.grid(True)\n",
        "plt.show()"
      ],
      "execution_count": 88,
      "outputs": [
        {
          "output_type": "display_data",
          "data": {
            "image/png": "[encoded data removed]",
            "text/plain": [
              "<Figure size 576x360 with 1 Axes>"
            ]
          },
          "metadata": {
            "tags": []
          }
        }
      ]
    },
    {
      "cell_type": "code",
      "metadata": {
        "id": "eIfrF09DYm4D",
        "colab_type": "code",
        "colab": {
          "base_uri": "https://localhost:8080/",
          "height": 50
        },
        "outputId": "faaf3851-fdf8-4378-e29a-a7dbb7481257"
      },
      "source": [
        "model.evaluate(X_train,y_train)"
      ],
      "execution_count": 89,
      "outputs": [
        {
          "output_type": "stream",
          "text": [
            "33600/33600 [==============================] - 2s 53us/sample - loss: 0.0387 - sparse_categorical_accuracy: 0.9914\n"
          ],
          "name": "stdout"
        },
        {
          "output_type": "execute_result",
          "data": {
            "text/plain": [
              "[0.03866389851196713, 0.9913988]"
            ]
          },
          "metadata": {
            "tags": []
          },
          "execution_count": 89
        }
      ]
    },
    {
      "cell_type": "code",
      "metadata": {
        "id": "KNyvfvDHYpn5",
        "colab_type": "code",
        "colab": {}
      },
      "source": [
        "y_pred1=model.predict(X_train)"
      ],
      "execution_count": 0,
      "outputs": []
    },
    {
      "cell_type": "code",
      "metadata": {
        "id": "O-_DplsmY4FG",
        "colab_type": "code",
        "colab": {}
      },
      "source": [
        "pred1=[]\n",
        "for i in range(len(y_pred1)):\n",
        "  pred=np.argmax(y_pred1[i])\n",
        "  pred1.append(pred)"
      ],
      "execution_count": 0,
      "outputs": []
    },
    {
      "cell_type": "code",
      "metadata": {
        "id": "oJ9Z_IGMZIhM",
        "colab_type": "code",
        "colab": {}
      },
      "source": [
        "y_pred1_new=np.asarray(pred1)"
      ],
      "execution_count": 0,
      "outputs": []
    },
    {
      "cell_type": "code",
      "metadata": {
        "id": "ZKYKS7RSZe1_",
        "colab_type": "code",
        "colab": {
          "base_uri": "https://localhost:8080/",
          "height": 34
        },
        "outputId": "d3e84870-871d-47fd-8bb7-fa65535d7648"
      },
      "source": [
        "y_pred1_new"
      ],
      "execution_count": 93,
      "outputs": [
        {
          "output_type": "execute_result",
          "data": {
            "text/plain": [
              "array([6, 5, 3, ..., 2, 6, 0])"
            ]
          },
          "metadata": {
            "tags": []
          },
          "execution_count": 93
        }
      ]
    },
    {
      "cell_type": "code",
      "metadata": {
        "id": "_ggRB_mR2Joo",
        "colab_type": "code",
        "colab": {}
      },
      "source": [
        "np.savetxt('y_pred1_train.csv', y_pred1_new, delimiter=',')\n",
        "files.download('y_pred1_train.csv')"
      ],
      "execution_count": 0,
      "outputs": []
    },
    {
      "cell_type": "code",
      "metadata": {
        "id": "qVBuTwdKFEoM",
        "colab_type": "code",
        "colab": {}
      },
      "source": [
        "y_pred1_test=model.predict(X_test)\n",
        "pred1_test=[]\n",
        "for i in range(len(y_pred1_test)):\n",
        "  pred=np.argmax(y_pred1_test[i])\n",
        "  pred1_test.append(pred)\n",
        "y_pred1_test_new=np.asarray(pred1_test)\n",
        "np.savetxt('y_pred1_test.csv', y_pred1_test_new, delimiter=',')\n",
        "files.download('y_pred1_test.csv')"
      ],
      "execution_count": 0,
      "outputs": []
    },
    {
      "cell_type": "code",
      "metadata": {
        "id": "y1SD2eEDZSsQ",
        "colab_type": "code",
        "colab": {
          "base_uri": "https://localhost:8080/",
          "height": 185
        },
        "outputId": "ae408ff3-1863-4378-f158-c9ad11e5410e"
      },
      "source": [
        "cf=confusion_matrix(y_train, y_pred1_new)\n",
        "cf"
      ],
      "execution_count": 96,
      "outputs": [
        {
          "output_type": "execute_result",
          "data": {
            "text/plain": [
              "array([[3296,    0,    2,    0,    1,    0,    9,    2,    2,    4],\n",
              "       [   0, 3752,    5,    3,    3,    0,    2,    5,    3,    2],\n",
              "       [   1,    1, 3310,    2,    1,    1,    2,    7,    4,    2],\n",
              "       [   0,    5,   13, 3359,    0,   14,    2,    7,    6,    8],\n",
              "       [   0,    4,    1,    0, 3207,    0,    5,    1,    2,   13],\n",
              "       [   3,    1,    1,    4,    0, 3073,    6,    0,    2,    3],\n",
              "       [   5,    0,    0,    0,    4,    3, 3337,    0,    3,    0],\n",
              "       [   0,   11,    7,    0,    2,    0,    2, 3475,    0,   11],\n",
              "       [   2,   11,    2,    5,    1,    3,    5,    0, 3190,    9],\n",
              "       [   6,    0,    1,    2,    9,    4,    0,   11,    5, 3312]])"
            ]
          },
          "metadata": {
            "tags": []
          },
          "execution_count": 96
        }
      ]
    },
    {
      "cell_type": "markdown",
      "metadata": {
        "id": "1o1YKULPZ6iL",
        "colab_type": "text"
      },
      "source": [
        "MODEL #2"
      ]
    },
    {
      "cell_type": "code",
      "metadata": {
        "id": "dI15j_GHZ8KI",
        "colab_type": "code",
        "colab": {}
      },
      "source": [
        "img_inputs = keras.Input(shape=(784))\n",
        "flatten=layers.Flatten()\n",
        "x=flatten(img_inputs)\n",
        "x=layers.Dense(200, activation='relu')(x)\n",
        "x=layers.Dense(200, activation='relu')(x)"
      ],
      "execution_count": 0,
      "outputs": []
    },
    {
      "cell_type": "code",
      "metadata": {
        "id": "Spwbwgx7bpQT",
        "colab_type": "code",
        "colab": {}
      },
      "source": [
        "outputs = layers.Dense(10, activation='softmax')(x)"
      ],
      "execution_count": 0,
      "outputs": []
    },
    {
      "cell_type": "code",
      "metadata": {
        "id": "AM7CXuj_bvfv",
        "colab_type": "code",
        "colab": {}
      },
      "source": [
        "model = keras.Model(inputs=img_inputs, outputs=outputs)"
      ],
      "execution_count": 0,
      "outputs": []
    },
    {
      "cell_type": "code",
      "metadata": {
        "id": "PsbAFiyu2oZx",
        "colab_type": "code",
        "colab": {
          "base_uri": "https://localhost:8080/",
          "height": 319
        },
        "outputId": "20c25ec4-bfeb-4fa1-c10b-d5f697929a73"
      },
      "source": [
        "model.summary()"
      ],
      "execution_count": 100,
      "outputs": [
        {
          "output_type": "stream",
          "text": [
            "Model: \"model_3\"\n",
            "_________________________________________________________________\n",
            "Layer (type)                 Output Shape              Param #   \n",
            "=================================================================\n",
            "input_4 (InputLayer)         [(None, 784)]             0         \n",
            "_________________________________________________________________\n",
            "flatten_3 (Flatten)          (None, 784)               0         \n",
            "_________________________________________________________________\n",
            "dense_9 (Dense)              (None, 200)               157000    \n",
            "_________________________________________________________________\n",
            "dense_10 (Dense)             (None, 200)               40200     \n",
            "_________________________________________________________________\n",
            "dense_11 (Dense)             (None, 10)                2010      \n",
            "=================================================================\n",
            "Total params: 199,210\n",
            "Trainable params: 199,210\n",
            "Non-trainable params: 0\n",
            "_________________________________________________________________\n"
          ],
          "name": "stdout"
        }
      ]
    },
    {
      "cell_type": "code",
      "metadata": {
        "id": "HCKlsm2Z2pbd",
        "colab_type": "code",
        "colab": {}
      },
      "source": [
        "model.compile(loss=keras.losses.sparse_categorical_crossentropy, optimizer=\"sgd\", metrics=[keras.metrics.sparse_categorical_accuracy])"
      ],
      "execution_count": 0,
      "outputs": []
    },
    {
      "cell_type": "code",
      "metadata": {
        "id": "YqfM09-j2wXs",
        "colab_type": "code",
        "colab": {
          "base_uri": "https://localhost:8080/",
          "height": 1000
        },
        "outputId": "49d81e4f-caff-4cd8-95bd-19c33da79e9c"
      },
      "source": [
        "%time history2=model.fit(X_train, y_train, epochs=30, validation_data=(X_valid,y_valid))"
      ],
      "execution_count": 102,
      "outputs": [
        {
          "output_type": "stream",
          "text": [
            "Train on 33600 samples, validate on 8400 samples\n",
            "Epoch 1/30\n",
            "33600/33600 [==============================] - 3s 92us/sample - loss: 0.7596 - sparse_categorical_accuracy: 0.8165 - val_loss: 0.3944 - val_sparse_categorical_accuracy: 0.8901\n",
            "Epoch 2/30\n",
            "33600/33600 [==============================] - 3s 83us/sample - loss: 0.3333 - sparse_categorical_accuracy: 0.9051 - val_loss: 0.3139 - val_sparse_categorical_accuracy: 0.9101\n",
            "Epoch 3/30\n",
            "33600/33600 [==============================] - 3s 81us/sample - loss: 0.2783 - sparse_categorical_accuracy: 0.9205 - val_loss: 0.2729 - val_sparse_categorical_accuracy: 0.9202\n",
            "Epoch 4/30\n",
            "33600/33600 [==============================] - 3s 85us/sample - loss: 0.2442 - sparse_categorical_accuracy: 0.9304 - val_loss: 0.2516 - val_sparse_categorical_accuracy: 0.9276\n",
            "Epoch 5/30\n",
            "33600/33600 [==============================] - 3s 83us/sample - loss: 0.2179 - sparse_categorical_accuracy: 0.9376 - val_loss: 0.2302 - val_sparse_categorical_accuracy: 0.9323\n",
            "Epoch 6/30\n",
            "33600/33600 [==============================] - 3s 87us/sample - loss: 0.1971 - sparse_categorical_accuracy: 0.9434 - val_loss: 0.2114 - val_sparse_categorical_accuracy: 0.9388\n",
            "Epoch 7/30\n",
            "33600/33600 [==============================] - 3s 87us/sample - loss: 0.1797 - sparse_categorical_accuracy: 0.9487 - val_loss: 0.1994 - val_sparse_categorical_accuracy: 0.9413\n",
            "Epoch 8/30\n",
            "33600/33600 [==============================] - 3s 95us/sample - loss: 0.1651 - sparse_categorical_accuracy: 0.9534 - val_loss: 0.1859 - val_sparse_categorical_accuracy: 0.9480\n",
            "Epoch 9/30\n",
            "33600/33600 [==============================] - 3s 89us/sample - loss: 0.1524 - sparse_categorical_accuracy: 0.9575 - val_loss: 0.1731 - val_sparse_categorical_accuracy: 0.9513\n",
            "Epoch 10/30\n",
            "33600/33600 [==============================] - 3s 82us/sample - loss: 0.1416 - sparse_categorical_accuracy: 0.9606 - val_loss: 0.1666 - val_sparse_categorical_accuracy: 0.9518\n",
            "Epoch 11/30\n",
            "33600/33600 [==============================] - 3s 83us/sample - loss: 0.1323 - sparse_categorical_accuracy: 0.9628 - val_loss: 0.1617 - val_sparse_categorical_accuracy: 0.9538\n",
            "Epoch 12/30\n",
            "33600/33600 [==============================] - 3s 83us/sample - loss: 0.1235 - sparse_categorical_accuracy: 0.9653 - val_loss: 0.1523 - val_sparse_categorical_accuracy: 0.9569\n",
            "Epoch 13/30\n",
            "33600/33600 [==============================] - 3s 81us/sample - loss: 0.1158 - sparse_categorical_accuracy: 0.9674 - val_loss: 0.1532 - val_sparse_categorical_accuracy: 0.9562\n",
            "Epoch 14/30\n",
            "33600/33600 [==============================] - 3s 82us/sample - loss: 0.1095 - sparse_categorical_accuracy: 0.9695 - val_loss: 0.1425 - val_sparse_categorical_accuracy: 0.9602\n",
            "Epoch 15/30\n",
            "33600/33600 [==============================] - 3s 81us/sample - loss: 0.1029 - sparse_categorical_accuracy: 0.9719 - val_loss: 0.1423 - val_sparse_categorical_accuracy: 0.9595\n",
            "Epoch 16/30\n",
            "33600/33600 [==============================] - 3s 82us/sample - loss: 0.0973 - sparse_categorical_accuracy: 0.9732 - val_loss: 0.1370 - val_sparse_categorical_accuracy: 0.9612\n",
            "Epoch 17/30\n",
            "33600/33600 [==============================] - 3s 83us/sample - loss: 0.0916 - sparse_categorical_accuracy: 0.9744 - val_loss: 0.1311 - val_sparse_categorical_accuracy: 0.9620\n",
            "Epoch 18/30\n",
            "33600/33600 [==============================] - 3s 79us/sample - loss: 0.0869 - sparse_categorical_accuracy: 0.9763 - val_loss: 0.1261 - val_sparse_categorical_accuracy: 0.9623\n",
            "Epoch 19/30\n",
            "33600/33600 [==============================] - 3s 81us/sample - loss: 0.0823 - sparse_categorical_accuracy: 0.9773 - val_loss: 0.1231 - val_sparse_categorical_accuracy: 0.9625\n",
            "Epoch 20/30\n",
            "33600/33600 [==============================] - 3s 80us/sample - loss: 0.0783 - sparse_categorical_accuracy: 0.9787 - val_loss: 0.1203 - val_sparse_categorical_accuracy: 0.9650\n",
            "Epoch 21/30\n",
            "33600/33600 [==============================] - 3s 79us/sample - loss: 0.0742 - sparse_categorical_accuracy: 0.9801 - val_loss: 0.1213 - val_sparse_categorical_accuracy: 0.9624\n",
            "Epoch 22/30\n",
            "33600/33600 [==============================] - 3s 84us/sample - loss: 0.0703 - sparse_categorical_accuracy: 0.9810 - val_loss: 0.1150 - val_sparse_categorical_accuracy: 0.9650\n",
            "Epoch 23/30\n",
            "33600/33600 [==============================] - 3s 81us/sample - loss: 0.0672 - sparse_categorical_accuracy: 0.9823 - val_loss: 0.1141 - val_sparse_categorical_accuracy: 0.9651\n",
            "Epoch 24/30\n",
            "33600/33600 [==============================] - 3s 80us/sample - loss: 0.0637 - sparse_categorical_accuracy: 0.9836 - val_loss: 0.1118 - val_sparse_categorical_accuracy: 0.9655\n",
            "Epoch 25/30\n",
            "33600/33600 [==============================] - 3s 85us/sample - loss: 0.0609 - sparse_categorical_accuracy: 0.9842 - val_loss: 0.1110 - val_sparse_categorical_accuracy: 0.9658\n",
            "Epoch 26/30\n",
            "33600/33600 [==============================] - 3s 80us/sample - loss: 0.0581 - sparse_categorical_accuracy: 0.9848 - val_loss: 0.1080 - val_sparse_categorical_accuracy: 0.9668\n",
            "Epoch 27/30\n",
            "33600/33600 [==============================] - 3s 82us/sample - loss: 0.0555 - sparse_categorical_accuracy: 0.9855 - val_loss: 0.1070 - val_sparse_categorical_accuracy: 0.9663\n",
            "Epoch 28/30\n",
            "33600/33600 [==============================] - 3s 81us/sample - loss: 0.0528 - sparse_categorical_accuracy: 0.9867 - val_loss: 0.1054 - val_sparse_categorical_accuracy: 0.9667\n",
            "Epoch 29/30\n",
            "33600/33600 [==============================] - 3s 83us/sample - loss: 0.0507 - sparse_categorical_accuracy: 0.9868 - val_loss: 0.1053 - val_sparse_categorical_accuracy: 0.9662\n",
            "Epoch 30/30\n",
            "33600/33600 [==============================] - 3s 82us/sample - loss: 0.0483 - sparse_categorical_accuracy: 0.9880 - val_loss: 0.1025 - val_sparse_categorical_accuracy: 0.9682\n",
            "CPU times: user 1min 40s, sys: 9.14 s, total: 1min 50s\n",
            "Wall time: 1min 24s\n"
          ],
          "name": "stdout"
        }
      ]
    },
    {
      "cell_type": "code",
      "metadata": {
        "id": "G2AEVdFj22g6",
        "colab_type": "code",
        "colab": {
          "base_uri": "https://localhost:8080/",
          "height": 185
        },
        "outputId": "b6c53cc5-f766-44d8-a7dd-727fda0acc29"
      },
      "source": [
        "history2.params"
      ],
      "execution_count": 103,
      "outputs": [
        {
          "output_type": "execute_result",
          "data": {
            "text/plain": [
              "{'batch_size': 32,\n",
              " 'do_validation': True,\n",
              " 'epochs': 30,\n",
              " 'metrics': ['loss',\n",
              "  'sparse_categorical_accuracy',\n",
              "  'val_loss',\n",
              "  'val_sparse_categorical_accuracy'],\n",
              " 'samples': 33600,\n",
              " 'steps': 1050,\n",
              " 'verbose': 0}"
            ]
          },
          "metadata": {
            "tags": []
          },
          "execution_count": 103
        }
      ]
    },
    {
      "cell_type": "code",
      "metadata": {
        "id": "pTMturOr375S",
        "colab_type": "code",
        "colab": {
          "base_uri": "https://localhost:8080/",
          "height": 320
        },
        "outputId": "162a91d0-5074-4634-9867-68ac2f35e03e"
      },
      "source": [
        "pd.DataFrame(history2.history).plot(figsize=(8,5))\n",
        "plt.grid(True)\n",
        "plt.show()"
      ],
      "execution_count": 104,
      "outputs": [
        {
          "output_type": "display_data",
          "data": {
            "image/png": "[encoded data removed]",
            "text/plain": [
              "<Figure size 576x360 with 1 Axes>"
            ]
          },
          "metadata": {
            "tags": []
          }
        }
      ]
    },
    {
      "cell_type": "code",
      "metadata": {
        "id": "W4KRPm4J4J0X",
        "colab_type": "code",
        "colab": {
          "base_uri": "https://localhost:8080/",
          "height": 50
        },
        "outputId": "f412bd5c-1a80-4ce3-91d6-82be87535ed4"
      },
      "source": [
        "model.evaluate(X_train, y_train)"
      ],
      "execution_count": 105,
      "outputs": [
        {
          "output_type": "stream",
          "text": [
            "33600/33600 [==============================] - 2s 55us/sample - loss: 0.0434 - sparse_categorical_accuracy: 0.9896\n"
          ],
          "name": "stdout"
        },
        {
          "output_type": "execute_result",
          "data": {
            "text/plain": [
              "[0.043426986709292535, 0.9895536]"
            ]
          },
          "metadata": {
            "tags": []
          },
          "execution_count": 105
        }
      ]
    },
    {
      "cell_type": "code",
      "metadata": {
        "id": "j730ZpIT4OU4",
        "colab_type": "code",
        "colab": {}
      },
      "source": [
        "y_pred2=model.predict(X_train)"
      ],
      "execution_count": 0,
      "outputs": []
    },
    {
      "cell_type": "code",
      "metadata": {
        "id": "TQCrKV434YpZ",
        "colab_type": "code",
        "colab": {}
      },
      "source": [
        "pred2=[]\n",
        "for i in range(len(y_pred2)):\n",
        "  pred=np.argmax(y_pred2[i])\n",
        "  pred2.append(pred)"
      ],
      "execution_count": 0,
      "outputs": []
    },
    {
      "cell_type": "code",
      "metadata": {
        "id": "F6s98EvG4e3u",
        "colab_type": "code",
        "colab": {}
      },
      "source": [
        "y_pred2_new=np.asarray(pred2)"
      ],
      "execution_count": 0,
      "outputs": []
    },
    {
      "cell_type": "code",
      "metadata": {
        "id": "8t8-cIAg4lHz",
        "colab_type": "code",
        "colab": {}
      },
      "source": [
        "np.savetxt('y_pred2_train.csv', y_pred2_new, delimiter=',')\n",
        "files.download('y_pred2_train.csv')"
      ],
      "execution_count": 0,
      "outputs": []
    },
    {
      "cell_type": "code",
      "metadata": {
        "id": "n5gBcWC5JXBO",
        "colab_type": "code",
        "colab": {}
      },
      "source": [
        "y_pred2_test=model.predict(X_test)\n",
        "pred2_test=[]\n",
        "for i in range(len(y_pred2_test)):\n",
        "  pred=np.argmax(y_pred2_test[i])\n",
        "  pred2_test.append(pred)\n",
        "y_pred2_test_new=np.asarray(pred2_test)\n",
        "np.savetxt('y_pred2_test.csv', y_pred2_test_new, delimiter=',')\n",
        "files.download('y_pred2_test.csv')"
      ],
      "execution_count": 0,
      "outputs": []
    },
    {
      "cell_type": "code",
      "metadata": {
        "id": "oPEyIcuW4r3t",
        "colab_type": "code",
        "colab": {
          "base_uri": "https://localhost:8080/",
          "height": 185
        },
        "outputId": "a0dea2a0-a513-4ff0-c8bf-f8281ebd8a63"
      },
      "source": [
        "cf=confusion_matrix(y_train, y_pred2_new)\n",
        "cf"
      ],
      "execution_count": 112,
      "outputs": [
        {
          "output_type": "execute_result",
          "data": {
            "text/plain": [
              "array([[3286,    0,    2,    1,    1,    2,   13,    2,    5,    4],\n",
              "       [   0, 3742,    7,    4,    2,    0,    2,    7,    8,    3],\n",
              "       [   1,    4, 3303,    3,    1,    0,    1,    9,    7,    2],\n",
              "       [   2,    3,   12, 3361,    0,   13,    1,    7,    5,   10],\n",
              "       [   0,    6,    2,    0, 3195,    0,    6,    1,    1,   22],\n",
              "       [   2,    1,    0,    6,    0, 3068,    7,    1,    5,    3],\n",
              "       [   5,    2,    0,    0,    6,    3, 3333,    0,    3,    0],\n",
              "       [   1,   14,   10,    0,    3,    0,    2, 3468,    0,   10],\n",
              "       [   2,    9,    4,    7,    1,    3,    8,    1, 3185,    8],\n",
              "       [   5,    0,    0,    2,   14,    5,    0,   13,    3, 3308]])"
            ]
          },
          "metadata": {
            "tags": []
          },
          "execution_count": 112
        }
      ]
    },
    {
      "cell_type": "markdown",
      "metadata": {
        "id": "4IRVruRg4_Gp",
        "colab_type": "text"
      },
      "source": [
        "MODEL #3"
      ]
    },
    {
      "cell_type": "code",
      "metadata": {
        "id": "mrwQe34f5AwC",
        "colab_type": "code",
        "colab": {}
      },
      "source": [
        "img_inputs = keras.Input(shape=(784))\n",
        "flatten=layers.Flatten()\n",
        "x=flatten(img_inputs)\n",
        "x=layers.Dense(200, activation='relu')(x)\n",
        "x=layers.Dense(200, activation='relu')(x)\n",
        "x=layers.Dense(200, activation='relu')(x)\n",
        "x=layers.Dense(200, activation='relu')(x)"
      ],
      "execution_count": 0,
      "outputs": []
    },
    {
      "cell_type": "code",
      "metadata": {
        "id": "_EZRd2da5Lrt",
        "colab_type": "code",
        "colab": {}
      },
      "source": [
        "outputs = layers.Dense(10, activation='softmax')(x)"
      ],
      "execution_count": 0,
      "outputs": []
    },
    {
      "cell_type": "code",
      "metadata": {
        "id": "_FoIRLJs5Qih",
        "colab_type": "code",
        "colab": {}
      },
      "source": [
        "model = keras.Model(inputs=img_inputs, outputs=outputs)"
      ],
      "execution_count": 0,
      "outputs": []
    },
    {
      "cell_type": "code",
      "metadata": {
        "id": "uvI4znPK5Zz3",
        "colab_type": "code",
        "colab": {
          "base_uri": "https://localhost:8080/",
          "height": 386
        },
        "outputId": "68a8e0e1-b054-436a-ff54-d48529d8c6b8"
      },
      "source": [
        "model.summary()"
      ],
      "execution_count": 116,
      "outputs": [
        {
          "output_type": "stream",
          "text": [
            "Model: \"model_4\"\n",
            "_________________________________________________________________\n",
            "Layer (type)                 Output Shape              Param #   \n",
            "=================================================================\n",
            "input_5 (InputLayer)         [(None, 784)]             0         \n",
            "_________________________________________________________________\n",
            "flatten_4 (Flatten)          (None, 784)               0         \n",
            "_________________________________________________________________\n",
            "dense_12 (Dense)             (None, 200)               157000    \n",
            "_________________________________________________________________\n",
            "dense_13 (Dense)             (None, 200)               40200     \n",
            "_________________________________________________________________\n",
            "dense_14 (Dense)             (None, 200)               40200     \n",
            "_________________________________________________________________\n",
            "dense_15 (Dense)             (None, 200)               40200     \n",
            "_________________________________________________________________\n",
            "dense_16 (Dense)             (None, 10)                2010      \n",
            "=================================================================\n",
            "Total params: 279,610\n",
            "Trainable params: 279,610\n",
            "Non-trainable params: 0\n",
            "_________________________________________________________________\n"
          ],
          "name": "stdout"
        }
      ]
    },
    {
      "cell_type": "code",
      "metadata": {
        "id": "zIEixkUS5al7",
        "colab_type": "code",
        "colab": {}
      },
      "source": [
        "model.compile(loss=keras.losses.sparse_categorical_crossentropy, optimizer=\"sgd\", metrics=[keras.metrics.sparse_categorical_accuracy])"
      ],
      "execution_count": 0,
      "outputs": []
    },
    {
      "cell_type": "code",
      "metadata": {
        "id": "2oXOIp7m5oCm",
        "colab_type": "code",
        "colab": {
          "base_uri": "https://localhost:8080/",
          "height": 1000
        },
        "outputId": "aff3deb3-7a88-4e7d-e025-f57110fe828f"
      },
      "source": [
        "%time history3=model.fit(X_train, y_train, epochs=30, validation_data=(X_valid,y_valid))"
      ],
      "execution_count": 118,
      "outputs": [
        {
          "output_type": "stream",
          "text": [
            "Train on 33600 samples, validate on 8400 samples\n",
            "Epoch 1/30\n",
            "33600/33600 [==============================] - 3s 93us/sample - loss: 0.9425 - sparse_categorical_accuracy: 0.7373 - val_loss: 0.4063 - val_sparse_categorical_accuracy: 0.8804\n",
            "Epoch 2/30\n",
            "33600/33600 [==============================] - 3s 86us/sample - loss: 0.3193 - sparse_categorical_accuracy: 0.9045 - val_loss: 0.2887 - val_sparse_categorical_accuracy: 0.9167\n",
            "Epoch 3/30\n",
            "33600/33600 [==============================] - 3s 90us/sample - loss: 0.2486 - sparse_categorical_accuracy: 0.9273 - val_loss: 0.2317 - val_sparse_categorical_accuracy: 0.9342\n",
            "Epoch 4/30\n",
            "33600/33600 [==============================] - 3s 84us/sample - loss: 0.2036 - sparse_categorical_accuracy: 0.9413 - val_loss: 0.2205 - val_sparse_categorical_accuracy: 0.9358\n",
            "Epoch 5/30\n",
            "33600/33600 [==============================] - 3s 85us/sample - loss: 0.1715 - sparse_categorical_accuracy: 0.9489 - val_loss: 0.1884 - val_sparse_categorical_accuracy: 0.9455\n",
            "Epoch 6/30\n",
            "33600/33600 [==============================] - 3s 84us/sample - loss: 0.1483 - sparse_categorical_accuracy: 0.9565 - val_loss: 0.1656 - val_sparse_categorical_accuracy: 0.9537\n",
            "Epoch 7/30\n",
            "33600/33600 [==============================] - 3s 89us/sample - loss: 0.1292 - sparse_categorical_accuracy: 0.9629 - val_loss: 0.1587 - val_sparse_categorical_accuracy: 0.9561\n",
            "Epoch 8/30\n",
            "33600/33600 [==============================] - 3s 85us/sample - loss: 0.1159 - sparse_categorical_accuracy: 0.9655 - val_loss: 0.1473 - val_sparse_categorical_accuracy: 0.9571\n",
            "Epoch 9/30\n",
            "33600/33600 [==============================] - 3s 85us/sample - loss: 0.1024 - sparse_categorical_accuracy: 0.9691 - val_loss: 0.1363 - val_sparse_categorical_accuracy: 0.9610\n",
            "Epoch 10/30\n",
            "33600/33600 [==============================] - 3s 84us/sample - loss: 0.0916 - sparse_categorical_accuracy: 0.9734 - val_loss: 0.1411 - val_sparse_categorical_accuracy: 0.9596\n",
            "Epoch 11/30\n",
            "33600/33600 [==============================] - 3s 85us/sample - loss: 0.0827 - sparse_categorical_accuracy: 0.9761 - val_loss: 0.1312 - val_sparse_categorical_accuracy: 0.9620\n",
            "Epoch 12/30\n",
            "33600/33600 [==============================] - 3s 85us/sample - loss: 0.0742 - sparse_categorical_accuracy: 0.9791 - val_loss: 0.1221 - val_sparse_categorical_accuracy: 0.9649\n",
            "Epoch 13/30\n",
            "33600/33600 [==============================] - 3s 85us/sample - loss: 0.0671 - sparse_categorical_accuracy: 0.9808 - val_loss: 0.1517 - val_sparse_categorical_accuracy: 0.9538\n",
            "Epoch 14/30\n",
            "33600/33600 [==============================] - 3s 85us/sample - loss: 0.0616 - sparse_categorical_accuracy: 0.9821 - val_loss: 0.1197 - val_sparse_categorical_accuracy: 0.9649\n",
            "Epoch 15/30\n",
            "33600/33600 [==============================] - 3s 85us/sample - loss: 0.0560 - sparse_categorical_accuracy: 0.9840 - val_loss: 0.1212 - val_sparse_categorical_accuracy: 0.9639\n",
            "Epoch 16/30\n",
            "33600/33600 [==============================] - 3s 89us/sample - loss: 0.0496 - sparse_categorical_accuracy: 0.9862 - val_loss: 0.1185 - val_sparse_categorical_accuracy: 0.9656\n",
            "Epoch 17/30\n",
            "33600/33600 [==============================] - 3s 86us/sample - loss: 0.0448 - sparse_categorical_accuracy: 0.9879 - val_loss: 0.1221 - val_sparse_categorical_accuracy: 0.9639\n",
            "Epoch 18/30\n",
            "33600/33600 [==============================] - 3s 88us/sample - loss: 0.0402 - sparse_categorical_accuracy: 0.9892 - val_loss: 0.1095 - val_sparse_categorical_accuracy: 0.9679\n",
            "Epoch 19/30\n",
            "33600/33600 [==============================] - 3s 87us/sample - loss: 0.0360 - sparse_categorical_accuracy: 0.9904 - val_loss: 0.1052 - val_sparse_categorical_accuracy: 0.9680\n",
            "Epoch 20/30\n",
            "33600/33600 [==============================] - 3s 88us/sample - loss: 0.0329 - sparse_categorical_accuracy: 0.9916 - val_loss: 0.1090 - val_sparse_categorical_accuracy: 0.9673\n",
            "Epoch 21/30\n",
            "33600/33600 [==============================] - 3s 86us/sample - loss: 0.0291 - sparse_categorical_accuracy: 0.9927 - val_loss: 0.1071 - val_sparse_categorical_accuracy: 0.9688\n",
            "Epoch 22/30\n",
            "33600/33600 [==============================] - 3s 85us/sample - loss: 0.0261 - sparse_categorical_accuracy: 0.9940 - val_loss: 0.1057 - val_sparse_categorical_accuracy: 0.9699\n",
            "Epoch 23/30\n",
            "33600/33600 [==============================] - 3s 88us/sample - loss: 0.0231 - sparse_categorical_accuracy: 0.9949 - val_loss: 0.1062 - val_sparse_categorical_accuracy: 0.9693\n",
            "Epoch 24/30\n",
            "33600/33600 [==============================] - 3s 84us/sample - loss: 0.0207 - sparse_categorical_accuracy: 0.9955 - val_loss: 0.1072 - val_sparse_categorical_accuracy: 0.9687\n",
            "Epoch 25/30\n",
            "33600/33600 [==============================] - 3s 87us/sample - loss: 0.0183 - sparse_categorical_accuracy: 0.9965 - val_loss: 0.1117 - val_sparse_categorical_accuracy: 0.9699\n",
            "Epoch 26/30\n",
            "33600/33600 [==============================] - 3s 85us/sample - loss: 0.0162 - sparse_categorical_accuracy: 0.9968 - val_loss: 0.1102 - val_sparse_categorical_accuracy: 0.9688\n",
            "Epoch 27/30\n",
            "33600/33600 [==============================] - 3s 86us/sample - loss: 0.0142 - sparse_categorical_accuracy: 0.9974 - val_loss: 0.1091 - val_sparse_categorical_accuracy: 0.9706\n",
            "Epoch 28/30\n",
            "33600/33600 [==============================] - 3s 89us/sample - loss: 0.0127 - sparse_categorical_accuracy: 0.9979 - val_loss: 0.1093 - val_sparse_categorical_accuracy: 0.9699\n",
            "Epoch 29/30\n",
            "33600/33600 [==============================] - 3s 86us/sample - loss: 0.0113 - sparse_categorical_accuracy: 0.9984 - val_loss: 0.1133 - val_sparse_categorical_accuracy: 0.9696\n",
            "Epoch 30/30\n",
            "33600/33600 [==============================] - 3s 85us/sample - loss: 0.0094 - sparse_categorical_accuracy: 0.9987 - val_loss: 0.1121 - val_sparse_categorical_accuracy: 0.9706\n",
            "CPU times: user 1min 43s, sys: 8.51 s, total: 1min 52s\n",
            "Wall time: 1min 27s\n"
          ],
          "name": "stdout"
        }
      ]
    },
    {
      "cell_type": "code",
      "metadata": {
        "id": "4JnYwpop5s2w",
        "colab_type": "code",
        "colab": {
          "base_uri": "https://localhost:8080/",
          "height": 185
        },
        "outputId": "1acd2ca0-0389-4346-8c63-df65f829ed41"
      },
      "source": [
        "history3.params"
      ],
      "execution_count": 119,
      "outputs": [
        {
          "output_type": "execute_result",
          "data": {
            "text/plain": [
              "{'batch_size': 32,\n",
              " 'do_validation': True,\n",
              " 'epochs': 30,\n",
              " 'metrics': ['loss',\n",
              "  'sparse_categorical_accuracy',\n",
              "  'val_loss',\n",
              "  'val_sparse_categorical_accuracy'],\n",
              " 'samples': 33600,\n",
              " 'steps': 1050,\n",
              " 'verbose': 0}"
            ]
          },
          "metadata": {
            "tags": []
          },
          "execution_count": 119
        }
      ]
    },
    {
      "cell_type": "code",
      "metadata": {
        "id": "7zJGoN4q6aJ8",
        "colab_type": "code",
        "colab": {
          "base_uri": "https://localhost:8080/",
          "height": 320
        },
        "outputId": "3f555e77-b859-4c1a-c03f-0bb38739d954"
      },
      "source": [
        "pd.DataFrame(history3.history).plot(figsize=(8,5))\n",
        "plt.grid(True)\n",
        "plt.show()"
      ],
      "execution_count": 120,
      "outputs": [
        {
          "output_type": "display_data",
          "data": {
            "image/png": "[encoded data removed]",
            "text/plain": [
              "<Figure size 576x360 with 1 Axes>"
            ]
          },
          "metadata": {
            "tags": []
          }
        }
      ]
    },
    {
      "cell_type": "code",
      "metadata": {
        "id": "8gKXzK5J6iKI",
        "colab_type": "code",
        "colab": {
          "base_uri": "https://localhost:8080/",
          "height": 50
        },
        "outputId": "33bce378-1c51-4dc4-e0fd-583c55c395f7"
      },
      "source": [
        "model.evaluate(X_train,y_train)"
      ],
      "execution_count": 121,
      "outputs": [
        {
          "output_type": "stream",
          "text": [
            "33600/33600 [==============================] - 2s 55us/sample - loss: 0.0071 - sparse_categorical_accuracy: 0.9994\n"
          ],
          "name": "stdout"
        },
        {
          "output_type": "execute_result",
          "data": {
            "text/plain": [
              "[0.007144338634603801, 0.9994048]"
            ]
          },
          "metadata": {
            "tags": []
          },
          "execution_count": 121
        }
      ]
    },
    {
      "cell_type": "code",
      "metadata": {
        "id": "LBXSHith6kWL",
        "colab_type": "code",
        "colab": {}
      },
      "source": [
        "y_pred3=model.predict(X_train)"
      ],
      "execution_count": 0,
      "outputs": []
    },
    {
      "cell_type": "code",
      "metadata": {
        "id": "em56hC6N6tax",
        "colab_type": "code",
        "colab": {}
      },
      "source": [
        "pred3=[]\n",
        "for i in range(len(y_pred3)):\n",
        "  pred=np.argmax(y_pred3[i])\n",
        "  pred3.append(pred)"
      ],
      "execution_count": 0,
      "outputs": []
    },
    {
      "cell_type": "code",
      "metadata": {
        "id": "987O_oZ66yHB",
        "colab_type": "code",
        "colab": {}
      },
      "source": [
        "y_pred3_new=np.asarray(pred3)"
      ],
      "execution_count": 0,
      "outputs": []
    },
    {
      "cell_type": "code",
      "metadata": {
        "id": "f61Qqvh56_rL",
        "colab_type": "code",
        "colab": {}
      },
      "source": [
        "np.savetxt('y_pred3_train.csv', y_pred3_new, delimiter=',')\n",
        "files.download('y_pred3_train.csv')"
      ],
      "execution_count": 0,
      "outputs": []
    },
    {
      "cell_type": "code",
      "metadata": {
        "id": "6iQK9qJxKTkU",
        "colab_type": "code",
        "colab": {}
      },
      "source": [
        "y_pred3_test=model.predict(X_test)\n",
        "pred3_test=[]\n",
        "for i in range(len(y_pred3_test)):\n",
        "  pred=np.argmax(y_pred3_test[i])\n",
        "  pred3_test.append(pred)\n",
        "y_pred3_test_new=np.asarray(pred3_test)\n",
        "np.savetxt('y_pred3_test.csv', y_pred3_test_new, delimiter=',')\n",
        "files.download('y_pred3_test.csv')"
      ],
      "execution_count": 0,
      "outputs": []
    },
    {
      "cell_type": "code",
      "metadata": {
        "id": "3gHTUPsB7Hzq",
        "colab_type": "code",
        "colab": {
          "base_uri": "https://localhost:8080/",
          "height": 185
        },
        "outputId": "e9166e99-5916-477f-f53a-48ae12a6857e"
      },
      "source": [
        "cf=confusion_matrix(y_train, y_pred3_new)\n",
        "cf"
      ],
      "execution_count": 127,
      "outputs": [
        {
          "output_type": "execute_result",
          "data": {
            "text/plain": [
              "array([[3316,    0,    0,    0,    0,    0,    0,    0,    0,    0],\n",
              "       [   0, 3770,    0,    0,    0,    0,    0,    3,    2,    0],\n",
              "       [   1,    0, 3329,    0,    0,    0,    0,    1,    0,    0],\n",
              "       [   0,    0,    0, 3412,    0,    1,    0,    0,    0,    1],\n",
              "       [   0,    0,    0,    0, 3230,    0,    0,    1,    0,    2],\n",
              "       [   0,    0,    0,    0,    0, 3093,    0,    0,    0,    0],\n",
              "       [   0,    0,    0,    0,    0,    0, 3352,    0,    0,    0],\n",
              "       [   0,    2,    0,    0,    0,    0,    0, 3505,    0,    1],\n",
              "       [   0,    0,    1,    0,    0,    0,    1,    0, 3226,    0],\n",
              "       [   0,    0,    0,    0,    1,    0,    0,    1,    1, 3347]])"
            ]
          },
          "metadata": {
            "tags": []
          },
          "execution_count": 127
        }
      ]
    },
    {
      "cell_type": "markdown",
      "metadata": {
        "id": "q8wfpyUc8EhG",
        "colab_type": "text"
      },
      "source": [
        "MODEL #4"
      ]
    },
    {
      "cell_type": "code",
      "metadata": {
        "id": "V7B__tlj7Nx5",
        "colab_type": "code",
        "colab": {}
      },
      "source": [
        "img_inputs = keras.Input(shape=(784))\n",
        "flatten=layers.Flatten()\n",
        "x=flatten(img_inputs)\n",
        "x=layers.Dense(300, activation='relu')(x)\n",
        "x=layers.Dense(300, activation='relu')(x)\n",
        "x=layers.Dense(300, activation='relu')(x)\n",
        "x=layers.Dense(300, activation='relu')(x)"
      ],
      "execution_count": 0,
      "outputs": []
    },
    {
      "cell_type": "code",
      "metadata": {
        "id": "5K2M4-Ov8NFB",
        "colab_type": "code",
        "colab": {}
      },
      "source": [
        "outputs = layers.Dense(10, activation='softmax')(x)"
      ],
      "execution_count": 0,
      "outputs": []
    },
    {
      "cell_type": "code",
      "metadata": {
        "id": "AIL8d-mv8RBG",
        "colab_type": "code",
        "colab": {}
      },
      "source": [
        "model = keras.Model(inputs=img_inputs, outputs=outputs)"
      ],
      "execution_count": 0,
      "outputs": []
    },
    {
      "cell_type": "code",
      "metadata": {
        "id": "djg0XXCq8UlE",
        "colab_type": "code",
        "colab": {
          "base_uri": "https://localhost:8080/",
          "height": 386
        },
        "outputId": "47cf1e11-cbbe-4adf-b564-6e01e754c118"
      },
      "source": [
        "model.summary()"
      ],
      "execution_count": 132,
      "outputs": [
        {
          "output_type": "stream",
          "text": [
            "Model: \"model_5\"\n",
            "_________________________________________________________________\n",
            "Layer (type)                 Output Shape              Param #   \n",
            "=================================================================\n",
            "input_7 (InputLayer)         [(None, 784)]             0         \n",
            "_________________________________________________________________\n",
            "flatten_6 (Flatten)          (None, 784)               0         \n",
            "_________________________________________________________________\n",
            "dense_21 (Dense)             (None, 300)               235500    \n",
            "_________________________________________________________________\n",
            "dense_22 (Dense)             (None, 300)               90300     \n",
            "_________________________________________________________________\n",
            "dense_23 (Dense)             (None, 300)               90300     \n",
            "_________________________________________________________________\n",
            "dense_24 (Dense)             (None, 300)               90300     \n",
            "_________________________________________________________________\n",
            "dense_25 (Dense)             (None, 10)                3010      \n",
            "=================================================================\n",
            "Total params: 509,410\n",
            "Trainable params: 509,410\n",
            "Non-trainable params: 0\n",
            "_________________________________________________________________\n"
          ],
          "name": "stdout"
        }
      ]
    },
    {
      "cell_type": "code",
      "metadata": {
        "id": "COUR1Meh8VcY",
        "colab_type": "code",
        "colab": {}
      },
      "source": [
        "model.compile(loss=keras.losses.sparse_categorical_crossentropy, optimizer=\"sgd\", metrics=[keras.metrics.sparse_categorical_accuracy])"
      ],
      "execution_count": 0,
      "outputs": []
    },
    {
      "cell_type": "code",
      "metadata": {
        "id": "R5J-OvZw8a92",
        "colab_type": "code",
        "colab": {
          "base_uri": "https://localhost:8080/",
          "height": 1000
        },
        "outputId": "7a22b78a-d512-4c2f-b995-bce30267d825"
      },
      "source": [
        "%time history4=model.fit(X_train, y_train, epochs=30, validation_data=(X_valid,y_valid))"
      ],
      "execution_count": 134,
      "outputs": [
        {
          "output_type": "stream",
          "text": [
            "Train on 33600 samples, validate on 8400 samples\n",
            "Epoch 1/30\n",
            "33600/33600 [==============================] - 3s 97us/sample - loss: 0.8771 - sparse_categorical_accuracy: 0.7695 - val_loss: 0.3856 - val_sparse_categorical_accuracy: 0.8868\n",
            "Epoch 2/30\n",
            "33600/33600 [==============================] - 3s 85us/sample - loss: 0.3061 - sparse_categorical_accuracy: 0.9085 - val_loss: 0.2798 - val_sparse_categorical_accuracy: 0.9181\n",
            "Epoch 3/30\n",
            "33600/33600 [==============================] - 3s 87us/sample - loss: 0.2419 - sparse_categorical_accuracy: 0.9290 - val_loss: 0.2254 - val_sparse_categorical_accuracy: 0.9344\n",
            "Epoch 4/30\n",
            "33600/33600 [==============================] - 3s 87us/sample - loss: 0.2002 - sparse_categorical_accuracy: 0.9416 - val_loss: 0.2069 - val_sparse_categorical_accuracy: 0.9393\n",
            "Epoch 5/30\n",
            "33600/33600 [==============================] - 3s 86us/sample - loss: 0.1685 - sparse_categorical_accuracy: 0.9501 - val_loss: 0.1828 - val_sparse_categorical_accuracy: 0.9462\n",
            "Epoch 6/30\n",
            "33600/33600 [==============================] - 3s 85us/sample - loss: 0.1455 - sparse_categorical_accuracy: 0.9574 - val_loss: 0.1595 - val_sparse_categorical_accuracy: 0.9514\n",
            "Epoch 7/30\n",
            "33600/33600 [==============================] - 3s 85us/sample - loss: 0.1263 - sparse_categorical_accuracy: 0.9631 - val_loss: 0.1500 - val_sparse_categorical_accuracy: 0.9537\n",
            "Epoch 8/30\n",
            "33600/33600 [==============================] - 3s 88us/sample - loss: 0.1115 - sparse_categorical_accuracy: 0.9675 - val_loss: 0.1373 - val_sparse_categorical_accuracy: 0.9581\n",
            "Epoch 9/30\n",
            "33600/33600 [==============================] - 3s 84us/sample - loss: 0.0976 - sparse_categorical_accuracy: 0.9718 - val_loss: 0.1289 - val_sparse_categorical_accuracy: 0.9612\n",
            "Epoch 10/30\n",
            "33600/33600 [==============================] - 3s 86us/sample - loss: 0.0865 - sparse_categorical_accuracy: 0.9752 - val_loss: 0.1249 - val_sparse_categorical_accuracy: 0.9633\n",
            "Epoch 11/30\n",
            "33600/33600 [==============================] - 3s 87us/sample - loss: 0.0773 - sparse_categorical_accuracy: 0.9776 - val_loss: 0.1221 - val_sparse_categorical_accuracy: 0.9631\n",
            "Epoch 12/30\n",
            "33600/33600 [==============================] - 3s 87us/sample - loss: 0.0688 - sparse_categorical_accuracy: 0.9804 - val_loss: 0.1105 - val_sparse_categorical_accuracy: 0.9664\n",
            "Epoch 13/30\n",
            "33600/33600 [==============================] - 3s 87us/sample - loss: 0.0611 - sparse_categorical_accuracy: 0.9823 - val_loss: 0.1278 - val_sparse_categorical_accuracy: 0.9615\n",
            "Epoch 14/30\n",
            "33600/33600 [==============================] - 3s 87us/sample - loss: 0.0552 - sparse_categorical_accuracy: 0.9843 - val_loss: 0.1103 - val_sparse_categorical_accuracy: 0.9673\n",
            "Epoch 15/30\n",
            "33600/33600 [==============================] - 3s 85us/sample - loss: 0.0491 - sparse_categorical_accuracy: 0.9867 - val_loss: 0.1109 - val_sparse_categorical_accuracy: 0.9663\n",
            "Epoch 16/30\n",
            "33600/33600 [==============================] - 3s 85us/sample - loss: 0.0433 - sparse_categorical_accuracy: 0.9884 - val_loss: 0.1026 - val_sparse_categorical_accuracy: 0.9696\n",
            "Epoch 17/30\n",
            "33600/33600 [==============================] - 3s 86us/sample - loss: 0.0384 - sparse_categorical_accuracy: 0.9897 - val_loss: 0.1127 - val_sparse_categorical_accuracy: 0.9646\n",
            "Epoch 18/30\n",
            "33600/33600 [==============================] - 3s 85us/sample - loss: 0.0338 - sparse_categorical_accuracy: 0.9910 - val_loss: 0.1001 - val_sparse_categorical_accuracy: 0.9698\n",
            "Epoch 19/30\n",
            "33600/33600 [==============================] - 3s 85us/sample - loss: 0.0304 - sparse_categorical_accuracy: 0.9918 - val_loss: 0.0969 - val_sparse_categorical_accuracy: 0.9706\n",
            "Epoch 20/30\n",
            "33600/33600 [==============================] - 3s 84us/sample - loss: 0.0269 - sparse_categorical_accuracy: 0.9928 - val_loss: 0.0958 - val_sparse_categorical_accuracy: 0.9717\n",
            "Epoch 21/30\n",
            "33600/33600 [==============================] - 3s 89us/sample - loss: 0.0233 - sparse_categorical_accuracy: 0.9944 - val_loss: 0.0980 - val_sparse_categorical_accuracy: 0.9711\n",
            "Epoch 22/30\n",
            "33600/33600 [==============================] - 3s 86us/sample - loss: 0.0210 - sparse_categorical_accuracy: 0.9954 - val_loss: 0.0935 - val_sparse_categorical_accuracy: 0.9730\n",
            "Epoch 23/30\n",
            "33600/33600 [==============================] - 3s 86us/sample - loss: 0.0182 - sparse_categorical_accuracy: 0.9962 - val_loss: 0.0966 - val_sparse_categorical_accuracy: 0.9723\n",
            "Epoch 24/30\n",
            "33600/33600 [==============================] - 3s 89us/sample - loss: 0.0157 - sparse_categorical_accuracy: 0.9971 - val_loss: 0.0962 - val_sparse_categorical_accuracy: 0.9719\n",
            "Epoch 25/30\n",
            "33600/33600 [==============================] - 3s 86us/sample - loss: 0.0138 - sparse_categorical_accuracy: 0.9977 - val_loss: 0.0980 - val_sparse_categorical_accuracy: 0.9731\n",
            "Epoch 26/30\n",
            "33600/33600 [==============================] - 3s 85us/sample - loss: 0.0120 - sparse_categorical_accuracy: 0.9985 - val_loss: 0.0976 - val_sparse_categorical_accuracy: 0.9729\n",
            "Epoch 27/30\n",
            "33600/33600 [==============================] - 3s 83us/sample - loss: 0.0106 - sparse_categorical_accuracy: 0.9986 - val_loss: 0.0955 - val_sparse_categorical_accuracy: 0.9735\n",
            "Epoch 28/30\n",
            "33600/33600 [==============================] - 3s 85us/sample - loss: 0.0095 - sparse_categorical_accuracy: 0.9987 - val_loss: 0.0975 - val_sparse_categorical_accuracy: 0.9736\n",
            "Epoch 29/30\n",
            "33600/33600 [==============================] - 3s 86us/sample - loss: 0.0083 - sparse_categorical_accuracy: 0.9992 - val_loss: 0.0995 - val_sparse_categorical_accuracy: 0.9733\n",
            "Epoch 30/30\n",
            "33600/33600 [==============================] - 3s 84us/sample - loss: 0.0072 - sparse_categorical_accuracy: 0.9995 - val_loss: 0.1004 - val_sparse_categorical_accuracy: 0.9732\n",
            "CPU times: user 1min 44s, sys: 8.46 s, total: 1min 52s\n",
            "Wall time: 1min 27s\n"
          ],
          "name": "stdout"
        }
      ]
    },
    {
      "cell_type": "code",
      "metadata": {
        "id": "w4UP7_zi8gO_",
        "colab_type": "code",
        "colab": {
          "base_uri": "https://localhost:8080/",
          "height": 185
        },
        "outputId": "d24d264f-fae9-4461-b498-0dc93a68e91f"
      },
      "source": [
        "history4.params"
      ],
      "execution_count": 135,
      "outputs": [
        {
          "output_type": "execute_result",
          "data": {
            "text/plain": [
              "{'batch_size': 32,\n",
              " 'do_validation': True,\n",
              " 'epochs': 30,\n",
              " 'metrics': ['loss',\n",
              "  'sparse_categorical_accuracy',\n",
              "  'val_loss',\n",
              "  'val_sparse_categorical_accuracy'],\n",
              " 'samples': 33600,\n",
              " 'steps': 1050,\n",
              " 'verbose': 0}"
            ]
          },
          "metadata": {
            "tags": []
          },
          "execution_count": 135
        }
      ]
    },
    {
      "cell_type": "code",
      "metadata": {
        "id": "ulRDquuY9YqB",
        "colab_type": "code",
        "colab": {
          "base_uri": "https://localhost:8080/",
          "height": 320
        },
        "outputId": "01ebe14d-9396-4b95-f90b-c13ee773d39c"
      },
      "source": [
        "pd.DataFrame(history4.history).plot(figsize=(8,5))\n",
        "plt.grid(True)\n",
        "plt.show()"
      ],
      "execution_count": 136,
      "outputs": [
        {
          "output_type": "display_data",
          "data": {
            "image/png": "[encoded data removed]",
            "text/plain": [
              "<Figure size 576x360 with 1 Axes>"
            ]
          },
          "metadata": {
            "tags": []
          }
        }
      ]
    },
    {
      "cell_type": "code",
      "metadata": {
        "id": "TnIKbrp99n1F",
        "colab_type": "code",
        "colab": {
          "base_uri": "https://localhost:8080/",
          "height": 50
        },
        "outputId": "e1587459-165c-47ca-ecd1-a3baac5057ce"
      },
      "source": [
        "model.evaluate(X_train,y_train)"
      ],
      "execution_count": 137,
      "outputs": [
        {
          "output_type": "stream",
          "text": [
            "33600/33600 [==============================] - 2s 57us/sample - loss: 0.0060 - sparse_categorical_accuracy: 0.9996\n"
          ],
          "name": "stdout"
        },
        {
          "output_type": "execute_result",
          "data": {
            "text/plain": [
              "[0.005966488992886471, 0.9996131]"
            ]
          },
          "metadata": {
            "tags": []
          },
          "execution_count": 137
        }
      ]
    },
    {
      "cell_type": "code",
      "metadata": {
        "id": "yAnQhGab9ppP",
        "colab_type": "code",
        "colab": {}
      },
      "source": [
        "y_pred4=model.predict(X_train)"
      ],
      "execution_count": 0,
      "outputs": []
    },
    {
      "cell_type": "code",
      "metadata": {
        "id": "xx6d9GJZ-MyS",
        "colab_type": "code",
        "colab": {}
      },
      "source": [
        "pred4=[]\n",
        "for i in range(len(y_pred4)):\n",
        "  pred=np.argmax(y_pred4[i])\n",
        "  pred4.append(pred)"
      ],
      "execution_count": 0,
      "outputs": []
    },
    {
      "cell_type": "code",
      "metadata": {
        "id": "74En256l-U3D",
        "colab_type": "code",
        "colab": {}
      },
      "source": [
        "y_pred4_new=np.asarray(pred4)"
      ],
      "execution_count": 0,
      "outputs": []
    },
    {
      "cell_type": "code",
      "metadata": {
        "id": "72pxgTJV-aIP",
        "colab_type": "code",
        "colab": {}
      },
      "source": [
        "np.savetxt('y_pred4_train.csv', y_pred4_new, delimiter=',')\n",
        "files.download('y_pred4_train.csv')"
      ],
      "execution_count": 0,
      "outputs": []
    },
    {
      "cell_type": "code",
      "metadata": {
        "id": "HjDoPdvjUIDL",
        "colab_type": "code",
        "colab": {}
      },
      "source": [
        "y_pred4_test=model.predict(X_test)\n",
        "pred4_test=[]\n",
        "for i in range(len(y_pred4_test)):\n",
        "  pred=np.argmax(y_pred4_test[i])\n",
        "  pred4_test.append(pred)\n",
        "y_pred4_test_new=np.asarray(pred4_test)\n",
        "np.savetxt('y_pred4_test.csv', y_pred4_test_new, delimiter=',')\n",
        "files.download('y_pred4_test.csv')"
      ],
      "execution_count": 0,
      "outputs": []
    },
    {
      "cell_type": "code",
      "metadata": {
        "id": "995m_FIZ-klo",
        "colab_type": "code",
        "colab": {}
      },
      "source": [
        "cf=confusion_matrix(y_train, y_pred4_new)"
      ],
      "execution_count": 0,
      "outputs": []
    },
    {
      "cell_type": "code",
      "metadata": {
        "id": "JB9y9QAf-oyp",
        "colab_type": "code",
        "colab": {
          "base_uri": "https://localhost:8080/",
          "height": 185
        },
        "outputId": "3e9a4809-7a26-4aa5-972a-71ab44d3e8df"
      },
      "source": [
        "cf"
      ],
      "execution_count": 144,
      "outputs": [
        {
          "output_type": "execute_result",
          "data": {
            "text/plain": [
              "array([[3314,    0,    0,    0,    0,    0,    0,    0,    0,    2],\n",
              "       [   0, 3771,    0,    0,    1,    0,    0,    1,    1,    1],\n",
              "       [   0,    0, 3330,    0,    0,    0,    0,    1,    0,    0],\n",
              "       [   0,    0,    0, 3412,    0,    0,    0,    0,    1,    1],\n",
              "       [   0,    0,    0,    0, 3232,    0,    0,    1,    0,    0],\n",
              "       [   0,    0,    0,    0,    0, 3093,    0,    0,    0,    0],\n",
              "       [   0,    0,    0,    0,    1,    0, 3351,    0,    0,    0],\n",
              "       [   0,    0,    0,    0,    1,    0,    0, 3507,    0,    0],\n",
              "       [   0,    0,    0,    0,    0,    0,    0,    0, 3228,    0],\n",
              "       [   0,    0,    0,    0,    0,    0,    0,    0,    1, 3349]])"
            ]
          },
          "metadata": {
            "tags": []
          },
          "execution_count": 144
        }
      ]
    }
  ]
}